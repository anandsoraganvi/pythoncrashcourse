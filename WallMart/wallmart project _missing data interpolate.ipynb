{
 "cells": [
  {
   "cell_type": "code",
   "execution_count": 3,
   "metadata": {
    "collapsed": true
   },
   "outputs": [],
   "source": [
    "import pandas as pd\n",
    "import numpy as np\n",
    "from sklearn.linear_model import LinearRegression\n"
   ]
  },
  {
   "cell_type": "markdown",
   "metadata": {},
   "source": [
    "Reading the train data , weather data and key data "
   ]
  },
  {
   "cell_type": "code",
   "execution_count": 4,
   "metadata": {
    "scrolled": false
   },
   "outputs": [
    {
     "name": "stdout",
     "output_type": "stream",
     "text": [
      "         date  store_nbr  item_nbr  units\n",
      "0  2012-01-01          1         1      0\n",
      "1  2012-01-01          1         2      0\n",
      "2  2012-01-01          1         3      0\n",
      "3  2012-01-01          1         4      0\n",
      "4  2012-01-01          1         5      0\n"
     ]
    }
   ],
   "source": [
    "lm = LinearRegression()\n",
    "train_df = pd.read_csv('train.csv')\n",
    "weather_df = pd.read_csv('weather.csv')\n",
    "key_df = pd.read_csv('key.csv')\n",
    "print(train_df.head())"
   ]
  },
  {
   "cell_type": "markdown",
   "metadata": {},
   "source": [
    "Merge key data and weather data on station number and also merge this data with train data on station number and date\n",
    "\n",
    "Taking only first 10000 rows due to memory error\n",
    "\n"
   ]
  },
  {
   "cell_type": "code",
   "execution_count": 8,
   "metadata": {
    "scrolled": true
   },
   "outputs": [
    {
     "name": "stdout",
     "output_type": "stream",
     "text": [
      "         date  store_nbr  item_nbr tmax tmin tavg depart dewpoint wetbulb  \\\n",
      "0  2012-01-01          1         1   52   31   42      M       36      40   \n",
      "1  2012-01-01          1         2   52   31   42      M       36      40   \n",
      "2  2012-01-01          1         3   52   31   42      M       36      40   \n",
      "3  2012-01-01          1         4   52   31   42      M       36      40   \n",
      "4  2012-01-01          1         5   52   31   42      M       36      40   \n",
      "\n",
      "  heat   ...    sunrise sunset     codesum snowfall preciptotal stnpressure  \\\n",
      "0   23   ...          -      -  RA FZFG BR        M        0.05       29.78   \n",
      "1   23   ...          -      -  RA FZFG BR        M        0.05       29.78   \n",
      "2   23   ...          -      -  RA FZFG BR        M        0.05       29.78   \n",
      "3   23   ...          -      -  RA FZFG BR        M        0.05       29.78   \n",
      "4   23   ...          -      -  RA FZFG BR        M        0.05       29.78   \n",
      "\n",
      "  sealevel resultspeed resultdir avgspeed  \n",
      "0    29.92         3.6        20      4.6  \n",
      "1    29.92         3.6        20      4.6  \n",
      "2    29.92         3.6        20      4.6  \n",
      "3    29.92         3.6        20      4.6  \n",
      "4    29.92         3.6        20      4.6  \n",
      "\n",
      "[5 rows x 21 columns]\n"
     ]
    }
   ],
   "source": [
    "\n",
    "#comb_1_df = pd.merge(key_df, weather_df, on='station_nbr')\n",
    "\n",
    "comb_1_df = pd.merge(key_df.head(10000), weather_df.head(10000), on='station_nbr')\n",
    "# print(comb_1_df.head())\n",
    "\n",
    "comb_2_df = pd.merge(train_df.head(10000), comb_1_df, on=['store_nbr', 'date'])\n",
    "#print(comb_2_df.info())\n",
    "train_final_y_df = comb_2_df['units']\n",
    "# print(len(train_final_y_df))\n",
    "train_final_x_df = comb_2_df.drop(['station_nbr', 'units'], axis=1)\n",
    "print(train_final_x_df.head())\n",
    "# print(train_final_x_df.info())\n",
    "#lm.fit(train_final_x_df, train_final_y_df)\n",
    "# print(lm.intercept_)"
   ]
  },
  {
   "cell_type": "markdown",
   "metadata": {},
   "source": [
    "Lets concentrate on the missing values in the input data especially for weather data containing tmin,tmax and tavg\n",
    "\n",
    "+ Assigning input data frame 'train_final_x_df' into another data frame as back up before modifying\n",
    "+ fiinding any missing data in tmax,tmin and tavg\n",
    "+ For the first 10000 values there are no missing values in tmin and tmax\n",
    "+ however 223 rows has missing values 'M' in tavg\n",
    "+ interpolate the missing values in tavg as the average of tmin and tmax\n"
   ]
  },
  {
   "cell_type": "code",
   "execution_count": 12,
   "metadata": {
    "scrolled": true
   },
   "outputs": [
    {
     "name": "stdout",
     "output_type": "stream",
     "text": [
      "Empty DataFrame\n",
      "Columns: [date, store_nbr, item_nbr, tmax, tmin, tavg, depart, dewpoint, wetbulb, heat, cool, sunrise, sunset, codesum, snowfall, preciptotal, stnpressure, sealevel, resultspeed, resultdir, avgspeed]\n",
      "Index: []\n",
      "\n",
      "[0 rows x 21 columns]\n"
     ]
    },
    {
     "name": "stderr",
     "output_type": "stream",
     "text": [
      "C:\\Users\\Anand\\Anaconda3\\lib\\site-packages\\ipykernel_launcher.py:25: SettingWithCopyWarning: \n",
      "A value is trying to be set on a copy of a slice from a DataFrame.\n",
      "Try using .loc[row_indexer,col_indexer] = value instead\n",
      "\n",
      "See the caveats in the documentation: http://pandas.pydata.org/pandas-docs/stable/indexing.html#indexing-view-versus-copy\n"
     ]
    },
    {
     "data": {
      "text/html": [
       "<div>\n",
       "<style>\n",
       "    .dataframe thead tr:only-child th {\n",
       "        text-align: right;\n",
       "    }\n",
       "\n",
       "    .dataframe thead th {\n",
       "        text-align: left;\n",
       "    }\n",
       "\n",
       "    .dataframe tbody tr th {\n",
       "        vertical-align: top;\n",
       "    }\n",
       "</style>\n",
       "<table border=\"1\" class=\"dataframe\">\n",
       "  <thead>\n",
       "    <tr style=\"text-align: right;\">\n",
       "      <th></th>\n",
       "      <th>date</th>\n",
       "      <th>store_nbr</th>\n",
       "      <th>item_nbr</th>\n",
       "      <th>tmax</th>\n",
       "      <th>tmin</th>\n",
       "      <th>tavg</th>\n",
       "      <th>depart</th>\n",
       "      <th>dewpoint</th>\n",
       "      <th>wetbulb</th>\n",
       "      <th>heat</th>\n",
       "      <th>...</th>\n",
       "      <th>sunrise</th>\n",
       "      <th>sunset</th>\n",
       "      <th>codesum</th>\n",
       "      <th>snowfall</th>\n",
       "      <th>preciptotal</th>\n",
       "      <th>stnpressure</th>\n",
       "      <th>sealevel</th>\n",
       "      <th>resultspeed</th>\n",
       "      <th>resultdir</th>\n",
       "      <th>avgspeed</th>\n",
       "    </tr>\n",
       "  </thead>\n",
       "  <tbody>\n",
       "    <tr>\n",
       "      <th>4107</th>\n",
       "      <td>2012-01-01</td>\n",
       "      <td>39</td>\n",
       "      <td>1</td>\n",
       "      <td>66</td>\n",
       "      <td>45</td>\n",
       "      <td>55</td>\n",
       "      <td>M</td>\n",
       "      <td>34</td>\n",
       "      <td>46</td>\n",
       "      <td>M</td>\n",
       "      <td>...</td>\n",
       "      <td>-</td>\n",
       "      <td>-</td>\n",
       "      <td>RA BR</td>\n",
       "      <td>M</td>\n",
       "      <td>0.00</td>\n",
       "      <td>30.05</td>\n",
       "      <td>M</td>\n",
       "      <td>11.0</td>\n",
       "      <td>36</td>\n",
       "      <td>10.9</td>\n",
       "    </tr>\n",
       "    <tr>\n",
       "      <th>4108</th>\n",
       "      <td>2012-01-01</td>\n",
       "      <td>39</td>\n",
       "      <td>2</td>\n",
       "      <td>66</td>\n",
       "      <td>45</td>\n",
       "      <td>55</td>\n",
       "      <td>M</td>\n",
       "      <td>34</td>\n",
       "      <td>46</td>\n",
       "      <td>M</td>\n",
       "      <td>...</td>\n",
       "      <td>-</td>\n",
       "      <td>-</td>\n",
       "      <td>RA BR</td>\n",
       "      <td>M</td>\n",
       "      <td>0.00</td>\n",
       "      <td>30.05</td>\n",
       "      <td>M</td>\n",
       "      <td>11.0</td>\n",
       "      <td>36</td>\n",
       "      <td>10.9</td>\n",
       "    </tr>\n",
       "    <tr>\n",
       "      <th>4109</th>\n",
       "      <td>2012-01-01</td>\n",
       "      <td>39</td>\n",
       "      <td>3</td>\n",
       "      <td>66</td>\n",
       "      <td>45</td>\n",
       "      <td>55</td>\n",
       "      <td>M</td>\n",
       "      <td>34</td>\n",
       "      <td>46</td>\n",
       "      <td>M</td>\n",
       "      <td>...</td>\n",
       "      <td>-</td>\n",
       "      <td>-</td>\n",
       "      <td>RA BR</td>\n",
       "      <td>M</td>\n",
       "      <td>0.00</td>\n",
       "      <td>30.05</td>\n",
       "      <td>M</td>\n",
       "      <td>11.0</td>\n",
       "      <td>36</td>\n",
       "      <td>10.9</td>\n",
       "    </tr>\n",
       "    <tr>\n",
       "      <th>4110</th>\n",
       "      <td>2012-01-01</td>\n",
       "      <td>39</td>\n",
       "      <td>4</td>\n",
       "      <td>66</td>\n",
       "      <td>45</td>\n",
       "      <td>55</td>\n",
       "      <td>M</td>\n",
       "      <td>34</td>\n",
       "      <td>46</td>\n",
       "      <td>M</td>\n",
       "      <td>...</td>\n",
       "      <td>-</td>\n",
       "      <td>-</td>\n",
       "      <td>RA BR</td>\n",
       "      <td>M</td>\n",
       "      <td>0.00</td>\n",
       "      <td>30.05</td>\n",
       "      <td>M</td>\n",
       "      <td>11.0</td>\n",
       "      <td>36</td>\n",
       "      <td>10.9</td>\n",
       "    </tr>\n",
       "    <tr>\n",
       "      <th>4111</th>\n",
       "      <td>2012-01-01</td>\n",
       "      <td>39</td>\n",
       "      <td>5</td>\n",
       "      <td>66</td>\n",
       "      <td>45</td>\n",
       "      <td>55</td>\n",
       "      <td>M</td>\n",
       "      <td>34</td>\n",
       "      <td>46</td>\n",
       "      <td>M</td>\n",
       "      <td>...</td>\n",
       "      <td>-</td>\n",
       "      <td>-</td>\n",
       "      <td>RA BR</td>\n",
       "      <td>M</td>\n",
       "      <td>0.00</td>\n",
       "      <td>30.05</td>\n",
       "      <td>M</td>\n",
       "      <td>11.0</td>\n",
       "      <td>36</td>\n",
       "      <td>10.9</td>\n",
       "    </tr>\n",
       "  </tbody>\n",
       "</table>\n",
       "<p>5 rows × 21 columns</p>\n",
       "</div>"
      ],
      "text/plain": [
       "            date  store_nbr  item_nbr tmax tmin  tavg depart dewpoint wetbulb  \\\n",
       "4107  2012-01-01         39         1   66   45    55      M       34      46   \n",
       "4108  2012-01-01         39         2   66   45    55      M       34      46   \n",
       "4109  2012-01-01         39         3   66   45    55      M       34      46   \n",
       "4110  2012-01-01         39         4   66   45    55      M       34      46   \n",
       "4111  2012-01-01         39         5   66   45    55      M       34      46   \n",
       "\n",
       "     heat   ...    sunrise sunset codesum snowfall preciptotal stnpressure  \\\n",
       "4107    M   ...          -      -   RA BR        M        0.00       30.05   \n",
       "4108    M   ...          -      -   RA BR        M        0.00       30.05   \n",
       "4109    M   ...          -      -   RA BR        M        0.00       30.05   \n",
       "4110    M   ...          -      -   RA BR        M        0.00       30.05   \n",
       "4111    M   ...          -      -   RA BR        M        0.00       30.05   \n",
       "\n",
       "     sealevel resultspeed resultdir avgspeed  \n",
       "4107        M        11.0        36     10.9  \n",
       "4108        M        11.0        36     10.9  \n",
       "4109        M        11.0        36     10.9  \n",
       "4110        M        11.0        36     10.9  \n",
       "4111        M        11.0        36     10.9  \n",
       "\n",
       "[5 rows x 21 columns]"
      ]
     },
     "execution_count": 12,
     "metadata": {},
     "output_type": "execute_result"
    }
   ],
   "source": [
    "\n",
    "few_comb2_df=train_final_x_df\n",
    "\n",
    "#Data finishing\n",
    "#fiinding any missing data in tmax,tmin and tavg by finding rows that contains value M in their columns\n",
    "#prinnting is optional just to have a look number of missing data\n",
    "#for zero output indicates no missing data\n",
    "\n",
    "#tmax\n",
    "few_comb2_df_tmax=few_comb2_df[few_comb2_df['tmax']=='M']\n",
    "#print(few_comb2_df_tmax) #output as zero rows of missing data - M\n",
    "\n",
    "\n",
    "#tmin\n",
    "few_comb2_df_tmin=few_comb2_df[few_comb2_df['tmin']=='M']\n",
    "#print(few_comb2_df_tmin) #output as zero rows of missing data - M\n",
    "\n",
    "\n",
    "#tavg\n",
    "few_comb2_df_tavg=few_comb2_df[few_comb2_df['tavg']=='M']\n",
    "#print(few_comb2_df_tavg.head()) #output as 223 rows of misssing data - M\n",
    "\n",
    "\n",
    "#replace mssing data of tavg with average of tmin and tmax \n",
    "few_comb2_df_tavg=few_comb2_df[few_comb2_df['tavg']=='M']\n",
    "few_comb2_df_tavg['tavg']=((few_comb2_df_tavg['tmax'].astype(int)+few_comb2_df_tavg['tmin'].astype(int))/2).astype(int)\n",
    "#print(few_comb2_df_tavg['tavg'])\n",
    "few_comb2_df_tavg.head()\n"
   ]
  },
  {
   "cell_type": "markdown",
   "metadata": {},
   "source": [
    "Lets look for missing data -M in the dewpoint in the same way as above"
   ]
  },
  {
   "cell_type": "code",
   "execution_count": 15,
   "metadata": {},
   "outputs": [
    {
     "name": "stdout",
     "output_type": "stream",
     "text": [
      "Empty DataFrame\n",
      "Columns: [date, store_nbr, item_nbr, tmax, tmin, tavg, depart, dewpoint, wetbulb, heat, cool, sunrise, sunset, codesum, snowfall, preciptotal, stnpressure, sealevel, resultspeed, resultdir, avgspeed]\n",
      "Index: []\n",
      "\n",
      "[0 rows x 21 columns]\n"
     ]
    }
   ],
   "source": [
    "df_dew= few_comb2_df_tavg[few_comb2_df_tavg['dewpoint']=='M']\n",
    "print(df_dew)"
   ]
  },
  {
   "cell_type": "code",
   "execution_count": null,
   "metadata": {
    "collapsed": true
   },
   "outputs": [],
   "source": [
    "No missing data in first 10000 rows"
   ]
  }
 ],
 "metadata": {
  "kernelspec": {
   "display_name": "Python 3",
   "language": "python",
   "name": "python3"
  },
  "language_info": {
   "codemirror_mode": {
    "name": "ipython",
    "version": 3
   },
   "file_extension": ".py",
   "mimetype": "text/x-python",
   "name": "python",
   "nbconvert_exporter": "python",
   "pygments_lexer": "ipython3",
   "version": "3.6.3"
  }
 },
 "nbformat": 4,
 "nbformat_minor": 2
}
