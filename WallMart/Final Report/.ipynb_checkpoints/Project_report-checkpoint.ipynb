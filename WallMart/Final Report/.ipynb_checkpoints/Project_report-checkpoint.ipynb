{
 "cells": [
  {
   "cell_type": "markdown",
   "metadata": {
    "collapsed": true
   },
   "source": [
    "# <h1><center>Stock prediciton using machine learning</center></h1> "
   ]
  },
  {
   "cell_type": "markdown",
   "metadata": {},
   "source": [
    "## Index\n",
    "\n",
    "1. Introduction\n",
    "2. Objective\n",
    "3. Data Collection\n",
    "    + 3.1 Data description\n",
    "4. Python Libraries  \n",
    "5. Data Reading from CSV files\n",
    "6. Data Cleaning\n",
    "    + 6.1 Reasons\n",
    "    + 6.2 Steps to cleanup the data\n",
    "        + 6.2.1 Finding Missing Data by Heatmap\n",
    "           + 6.2.1.1 Heatmap for train data\n",
    "           + 6.2.1.2 Heatmap for features data\n",
    "           + 6.2.1.3 Heatmap for store data\n",
    "        + 6.2.2 Drop large missing values\n",
    "           + 6.2.2.1 Clean Up - Markdowns\n",
    "        + 6.2.3 Fill the missing values with mean value of corresponding coloumns of data\n",
    "7. Feature selection\n",
    "8. Exploratory Data Analysis\n",
    "9. Classification\n",
    "    + 9.1 Feature - Type\n",
    "    + 9.2 Classification based on type and holidays\n",
    "10. Regression\n",
    "    + 10.1 Segregation of Features and Lables\n",
    "    + 10.2 Train/Test Split\n",
    "    + 10.3 Regression models\n",
    "        + 10.3.1 Linear Regression\n",
    "        + 10.3.2 Extra Tree Regressor\n",
    "        + 10.3.3 Support Vector Machine\n",
    "    + 10.4 Evaluation of models\n",
    "        + 10.4.1 Explained variance score\n",
    "        + 10.4.2 MAE\n",
    "        + 10.4.3 MSE\n",
    "        + 10.4.2 RMSE\n",
    "+ References\n",
    "    + Notebooks\n",
    "    + Figures and Equations\n",
    "    + Internet Documents\n",
    "    + E-books"
   ]
  },
  {
   "cell_type": "markdown",
   "metadata": {},
   "source": [
    "## 1. Introduction\n",
    "\n",
    "\n",
    "The major challenge that any conventional store facing is to get the ball park estimate of the level of inventory needed to avoid being out of stock. Though there is a variety of vendor tools to predict sales around extreme weather events, but it's an ad-hoc and time-consuming process that lacks a systematic measure of effectiveness. On assessing the factors which prove to deeply influence the quantity of sales, we have weather as an indispensable one. As weather deeply influences the mood and the spending capability of a person, it is almost directly related to the level of sales in chain stores. The main aim of this project is to identify a suitable machine learning algorithm to predict the sale of weather sensitive products."
   ]
  },
  {
   "cell_type": "markdown",
   "metadata": {},
   "source": [
    "## 2. Objective\n",
    "\n",
    "To build a robust model that can predict the sales accurately by including all the demand forecasting challenges\n",
    "\n"
   ]
  },
  {
   "cell_type": "markdown",
   "metadata": {},
   "source": [
    "## 3. Data Collection \n",
    "\n",
    "The value of the sales were obtained from the walmart form Kaggle [1].\n"
   ]
  },
  {
   "cell_type": "markdown",
   "metadata": {},
   "source": [
    "### 3.1 Data description\n",
    "\n",
    "+ Store.csv - This file contains anonymized information about the 45 stores, indicating the type and size of store.\n",
    "+ train.csv -This is the historical training data, which covers to 2010-02-05 to 2012-11-01. Within this file you will find the following fields\n",
    "+ test.csv-This file is identical to train.csv, except we have withheld the weekly sales. You must predict the sales for each triplet of store, department, and date in this file. \n",
    "+ features.csv-This file contains additional data related to the store, department, and regional activity for the given dates. \n",
    "\n",
    "        Store - the store number\n",
    "        Date - the week\n",
    "        Temperature - average temperature in the region\n",
    "        Fuel_Price - cost of fuel in the region\n",
    "        MarkDown1-5 - anonymized data related to promotional markdowns \n",
    "        CPI - the consumer price index\n",
    "        Unemployment - the unemployment rate\n",
    "        IsHoliday - whether the week is a special holiday week"
   ]
  },
  {
   "cell_type": "markdown",
   "metadata": {},
   "source": [
    "## 4. Python Libraries"
   ]
  },
  {
   "cell_type": "code",
   "execution_count": 1,
   "metadata": {},
   "outputs": [
    {
     "name": "stderr",
     "output_type": "stream",
     "text": [
      "C:\\Users\\Anand\\Anaconda3\\lib\\site-packages\\sklearn\\cross_validation.py:41: DeprecationWarning:\n",
      "\n",
      "This module was deprecated in version 0.18 in favor of the model_selection module into which all the refactored classes and functions are moved. Also note that the interface of the new CV iterators are different from that of this module. This module will be removed in 0.20.\n",
      "\n"
     ]
    }
   ],
   "source": [
    "import pandas as pd\n",
    "import numpy as np\n",
    "import plotly\n",
    "from plotly import __version__#\n",
    "%matplotlib inline\n",
    "\n",
    "import matplotlib.pyplot as plt\n",
    "import seaborn as sns\n",
    "from sklearn.linear_model import LinearRegression\n",
    "from sklearn.model_selection import train_test_split\n",
    "from sklearn.metrics import accuracy_score\n",
    "from sklearn import metrics\n",
    "import seaborn as sns\n",
    "from sklearn.cross_validation import train_test_split\n",
    "from sklearn.linear_model import LinearRegression\n",
    "from sklearn.metrics import r2_score\n",
    "from sklearn import metrics\n",
    "from sklearn.ensemble import ExtraTreesRegressor\n",
    "from sklearn.svm import SVR\n",
    "from sklearn import svm\n",
    "from sklearn.cross_validation import train_test_split\n",
    "from sklearn.linear_model import LinearRegression\n",
    "from sklearn.metrics import r2_score\n",
    "    "
   ]
  },
  {
   "cell_type": "markdown",
   "metadata": {},
   "source": [
    "## 5. Data reading from CSV files\n",
    "\n",
    "The walmart data is in .csv files as explained above, so we need to read this data using pandas library and assign it to Data frames. Below methods are reading data files from train.csv,features.csv and stores.csv"
   ]
  },
  {
   "cell_type": "code",
   "execution_count": 34,
   "metadata": {
    "collapsed": true
   },
   "outputs": [],
   "source": [
    "train_df = pd.read_csv('train.csv')\n",
    "features_df = pd.read_csv('features.csv')\n",
    "store_df = pd.read_csv('stores.csv')"
   ]
  },
  {
   "cell_type": "markdown",
   "metadata": {},
   "source": [
    "## 6. Data Cleaning\n",
    "\n",
    "In real life, when we asked for data from any store, there are high chances that data will not be so perfect that you can use it directly for predictions. \n",
    "\n",
    "### 6.1 Reasons\n",
    "\n",
    "Below are the reasons why it will not be perfect\n",
    "\n",
    "1. Data will be missing for certain extent. It will have either string value 'M' or 'nan' values associated with it\n",
    "2. Data will have generic data types(object, string) when it will have any missing data associated with it.\n",
    "3. Data will be given in multiple irrelevent files so you have to strugle bit to merge the corrseponding data\n",
    "\n",
    "With the above reasons, we have got a job to clean up the data before proceeding to modelling.\n",
    "\n",
    "### 6.2 Steps to cleanup the data\n",
    "\n",
    "1. First find out where all missing data exists by heatmap.\n",
    "2. If the missing data is big then drop the corresponding columns else move to step 3\n",
    "3. Fill the missing values with mean value of corresponding coloumns of data\n",
    "4. Finalise the data with single data type with no missing values\n",
    "\n",
    "#### 6.2.1 Finding Missing Data by Heatmap\n",
    "\n",
    "One best way to check any missing values in data is the heatmap which the powerful tool by seaborn\n",
    "\n",
    "**6.2.1.1 Heatmap for train data**\n",
    "\n",
    "Lets check the missing values in the train.csv data file"
   ]
  },
  {
   "cell_type": "code",
   "execution_count": null,
   "metadata": {
    "collapsed": true
   },
   "outputs": [],
   "source": [
    "sns.heatmap(train_df.isnull(),cbar=False,yticklabels=False,cmap='viridis')"
   ]
  },
  {
   "cell_type": "markdown",
   "metadata": {},
   "source": [
    "Above graph is indicative to the existince of any missing values(NA) in the train.csv dataframe From the empty graph below, there is no missing data."
   ]
  },
  {
   "cell_type": "markdown",
   "metadata": {},
   "source": [
    "**6.2.1.2 Heatmap for features data**\n",
    "\n",
    "When we checked same heatmap for features data then we can see quite a big data missing for Markdowns 1-5. Generally for this kind of missing data, we will drop the missing data columns which can seriously affect the modelling"
   ]
  },
  {
   "cell_type": "code",
   "execution_count": null,
   "metadata": {
    "collapsed": true
   },
   "outputs": [],
   "source": [
    "sns.heatmap(features_df.isnull(),cbar=False,yticklabels=False,cmap='viridis')"
   ]
  },
  {
   "cell_type": "markdown",
   "metadata": {},
   "source": [
    "** 6.2.1.3 Heatmap for store data**"
   ]
  },
  {
   "cell_type": "code",
   "execution_count": null,
   "metadata": {
    "collapsed": true
   },
   "outputs": [],
   "source": [
    "sns.heatmap(store_df.isnull(),cbar=False,yticklabels=False,cmap='viridis')"
   ]
  },
  {
   "cell_type": "markdown",
   "metadata": {},
   "source": [
    "From above heatgraph, there were quite a few missing data in CPI and unemployment columns. We can replace this missing data with average of their columns"
   ]
  },
  {
   "cell_type": "markdown",
   "metadata": {},
   "source": [
    "#### 6.2.2 Drop large missing values\n",
    "\n",
    "**6.2.2.1 Clean Up - Markdowns **\n",
    "\n",
    "As we have got to know there were large missing datas for the markdowns and we should drop these columns"
   ]
  },
  {
   "cell_type": "code",
   "execution_count": 35,
   "metadata": {
    "collapsed": true
   },
   "outputs": [],
   "source": [
    "features_df.drop(['MarkDown1','MarkDown2','MarkDown3','MarkDown4','MarkDown5'],axis=1,inplace=True)"
   ]
  },
  {
   "cell_type": "markdown",
   "metadata": {},
   "source": [
    "#### 6.2.3 Fill the missing values with mean value of corresponding coloumns of data\n",
    "\n",
    "As there are some NA(nan) or missing values under the columns of 'CPI' and 'Unemployment' , we are replacing those values with mean of the corresponding columns"
   ]
  },
  {
   "cell_type": "code",
   "execution_count": 36,
   "metadata": {
    "collapsed": true
   },
   "outputs": [],
   "source": [
    "features_df['CPI'].fillna(features_df['CPI'].mean(),inplace=True)\n",
    "features_df['Unemployment'].fillna(features_df['Unemployment'].mean(),inplace=True)"
   ]
  },
  {
   "cell_type": "markdown",
   "metadata": {},
   "source": [
    "## 7. Feature selection\n",
    "\n",
    "Once data is cleaned up then we need to select features that need to be evaluated.\n",
    "1. Combin this merged data with train data on store number and date as key\n",
    "2. Set your final train data with reference to x and y axes.\n",
    "3. Format the data column and set year,month and day into new seperate column "
   ]
  },
  {
   "cell_type": "code",
   "execution_count": 37,
   "metadata": {
    "collapsed": true
   },
   "outputs": [],
   "source": [
    "train_x=pd.DataFrame()\n",
    "train_x=store_df.merge(train_df,on='Store')\n",
    "train_x=train_x.merge(features_df,on=['Date','Store','IsHoliday'])\n",
    "\n",
    "\n",
    "train_x['year'] = [int(x[0:4]) for x in list(train_x['Date'])]\n",
    "train_x['month'] = [int(x[5:7]) for x in list(train_x['Date'])]\n",
    "train_x['day'] = [int(x[8:]) for x in list(train_x['Date'])]\n",
    "train_x.drop(['Date'],axis=1,inplace=True)"
   ]
  },
  {
   "cell_type": "markdown",
   "metadata": {},
   "source": [
    "We can see from the data that there are few zero and negative values for the Weekly sales. The reason is that on that perticular dates customer returned the items which were bought from the walmart which was leading to zero or negative values."
   ]
  },
  {
   "cell_type": "markdown",
   "metadata": {},
   "source": [
    "## 8. Exploratory Data Analysis\n",
    "\n",
    "Exploratory analysis helps in understanding the data whether its correlates to any of other features, also indicates type of the regression that needs to be done to model.\n",
    "\n",
    "From below pair plot, We can see that\n",
    "\n",
    "+ Distributions of store number, size, tempearute.\n",
    "+ Store number, Size, Department follows almost a uniform distributions and weekly sales almost a logarithemic distributions.\n",
    "+ Temeprature and fuel price are highly correlated.\n"
   ]
  },
  {
   "cell_type": "code",
   "execution_count": null,
   "metadata": {
    "collapsed": true
   },
   "outputs": [],
   "source": [
    "sns.pairplot(train_x)"
   ]
  },
  {
   "cell_type": "markdown",
   "metadata": {},
   "source": [
    "## 9. Classification"
   ]
  },
  {
   "cell_type": "markdown",
   "metadata": {},
   "source": [
    "### 9.1 Feature - Type\n",
    "\n",
    "The feature 'Type'(A or B or C) is in the string format so we are replacing this by intiger 0,1,2 respectivly.\n",
    "This feature can also lead us for the classification for this model"
   ]
  },
  {
   "cell_type": "code",
   "execution_count": 38,
   "metadata": {
    "collapsed": true
   },
   "outputs": [],
   "source": [
    "train_x['Type'].replace(['A','B','C'],[0,1,2],inplace=True)"
   ]
  },
  {
   "cell_type": "markdown",
   "metadata": {
    "collapsed": true
   },
   "source": [
    "### 9.2 Classification based on type and holidays\n",
    "\n",
    "The trained data will be classified into 6 based on store 'Type' and 'IsHoliday'.\n",
    "\n",
    "This will lead us to main 6 classifications as below\n",
    "\n",
    "+ train data Type A(0) without holiday\n",
    "+ train data Type A(0) with holiday\n",
    "+ train data Type B(1) without holiday\n",
    "+ train data Type B(1) with holiday\n",
    "+ train data Type C(2) without holiday\n",
    "+ train data Type C(2) with holiday\n"
   ]
  },
  {
   "cell_type": "code",
   "execution_count": 39,
   "metadata": {
    "collapsed": true
   },
   "outputs": [],
   "source": [
    "train_x_a=pd.DataFrame()\n",
    "train_x_a_h=pd.DataFrame()\n",
    "train_x_b=pd.DataFrame()\n",
    "train_x_b_h=pd.DataFrame()\n",
    "train_x_c=pd.DataFrame()\n",
    "train_x_c_h=pd.DataFrame()\n",
    "train_x_a_h=train_x[(train_x['Type']==0) & (train_x['IsHoliday']==True)]\n",
    "train_x_a=train_x[(train_x['Type']==0) & (train_x['IsHoliday']==False)]\n",
    "train_x_b_h=train_x[(train_x['Type']==1) & (train_x['IsHoliday']==True)]\n",
    "train_x_b=train_x[(train_x['Type']==1) & (train_x['IsHoliday']==False)]\n",
    "train_x_c_h=train_x[(train_x['Type']==2) & (train_x['IsHoliday']==True)]\n",
    "train_x_c=train_x[(train_x['Type']==2) & (train_x['IsHoliday']==False)]\n"
   ]
  },
  {
   "cell_type": "markdown",
   "metadata": {},
   "source": [
    "As we know that our ouput is the 'Weekly_Sales' that we need to predict, lets plot the strip plot of the weekly sales based on store type and holiday  "
   ]
  },
  {
   "cell_type": "code",
   "execution_count": 40,
   "metadata": {
    "scrolled": true
   },
   "outputs": [
    {
     "data": {
      "text/plain": [
       "<matplotlib.axes._subplots.AxesSubplot at 0x11ca66978>"
      ]
     },
     "execution_count": 40,
     "metadata": {},
     "output_type": "execute_result"
    },
    {
     "data": {
      "image/png": "[encoded data removed]",
      "text/plain": [
       "<Figure size 432x288 with 1 Axes>"
      ]
     },
     "metadata": {},
     "output_type": "display_data"
    }
   ],
   "source": [
    "sns.stripplot(x=\"Type\", y=\"Weekly_Sales\", data=train_x, jitter=True,hue='IsHoliday')"
   ]
  },
  {
   "cell_type": "markdown",
   "metadata": {},
   "source": [
    "## 10. Regression\n",
    "\n",
    "If you were able to make predictions about something important to you, you’d probably love that, right? It’s even better if you know that your predictions are sound. In this , we will show how to use regression analysis to make predictions and determine accuracy of it\n",
    "\n",
    "You can use regression equations to make predictions. Regression equations are a crucial part of the statistical output after you fit a model. The coefficients in the equation define the relationship between each independent variable and the dependent variable. However, you can also enter values for the independent variables into the equation to predict the mean value of the dependent variable.\n",
    "\n"
   ]
  },
  {
   "cell_type": "markdown",
   "metadata": {},
   "source": [
    "### 10.1 Segregation of Features and Lables\n",
    "\n",
    "Let us assign values for X axis (which is input i.e. Features) and Y axis(which is output i.e. Label) "
   ]
  },
  {
   "cell_type": "code",
   "execution_count": 42,
   "metadata": {},
   "outputs": [
    {
     "data": {
      "text/html": [
       "<div>\n",
       "<style scoped>\n",
       "    .dataframe tbody tr th:only-of-type {\n",
       "        vertical-align: middle;\n",
       "    }\n",
       "\n",
       "    .dataframe tbody tr th {\n",
       "        vertical-align: top;\n",
       "    }\n",
       "\n",
       "    .dataframe thead th {\n",
       "        text-align: right;\n",
       "    }\n",
       "</style>\n",
       "<table border=\"1\" class=\"dataframe\">\n",
       "  <thead>\n",
       "    <tr style=\"text-align: right;\">\n",
       "      <th></th>\n",
       "      <th>Size</th>\n",
       "      <th>Dept</th>\n",
       "      <th>Temperature</th>\n",
       "      <th>Fuel_Price</th>\n",
       "      <th>CPI</th>\n",
       "      <th>Unemployment</th>\n",
       "      <th>year</th>\n",
       "      <th>month</th>\n",
       "      <th>day</th>\n",
       "    </tr>\n",
       "  </thead>\n",
       "  <tbody>\n",
       "    <tr>\n",
       "      <th>0</th>\n",
       "      <td>151315</td>\n",
       "      <td>1</td>\n",
       "      <td>42.31</td>\n",
       "      <td>2.572</td>\n",
       "      <td>211.096358</td>\n",
       "      <td>8.106</td>\n",
       "      <td>2010</td>\n",
       "      <td>2</td>\n",
       "      <td>5</td>\n",
       "    </tr>\n",
       "    <tr>\n",
       "      <th>1</th>\n",
       "      <td>151315</td>\n",
       "      <td>2</td>\n",
       "      <td>42.31</td>\n",
       "      <td>2.572</td>\n",
       "      <td>211.096358</td>\n",
       "      <td>8.106</td>\n",
       "      <td>2010</td>\n",
       "      <td>2</td>\n",
       "      <td>5</td>\n",
       "    </tr>\n",
       "    <tr>\n",
       "      <th>2</th>\n",
       "      <td>151315</td>\n",
       "      <td>3</td>\n",
       "      <td>42.31</td>\n",
       "      <td>2.572</td>\n",
       "      <td>211.096358</td>\n",
       "      <td>8.106</td>\n",
       "      <td>2010</td>\n",
       "      <td>2</td>\n",
       "      <td>5</td>\n",
       "    </tr>\n",
       "    <tr>\n",
       "      <th>3</th>\n",
       "      <td>151315</td>\n",
       "      <td>4</td>\n",
       "      <td>42.31</td>\n",
       "      <td>2.572</td>\n",
       "      <td>211.096358</td>\n",
       "      <td>8.106</td>\n",
       "      <td>2010</td>\n",
       "      <td>2</td>\n",
       "      <td>5</td>\n",
       "    </tr>\n",
       "    <tr>\n",
       "      <th>4</th>\n",
       "      <td>151315</td>\n",
       "      <td>5</td>\n",
       "      <td>42.31</td>\n",
       "      <td>2.572</td>\n",
       "      <td>211.096358</td>\n",
       "      <td>8.106</td>\n",
       "      <td>2010</td>\n",
       "      <td>2</td>\n",
       "      <td>5</td>\n",
       "    </tr>\n",
       "    <tr>\n",
       "      <th>5</th>\n",
       "      <td>151315</td>\n",
       "      <td>6</td>\n",
       "      <td>42.31</td>\n",
       "      <td>2.572</td>\n",
       "      <td>211.096358</td>\n",
       "      <td>8.106</td>\n",
       "      <td>2010</td>\n",
       "      <td>2</td>\n",
       "      <td>5</td>\n",
       "    </tr>\n",
       "    <tr>\n",
       "      <th>6</th>\n",
       "      <td>151315</td>\n",
       "      <td>7</td>\n",
       "      <td>42.31</td>\n",
       "      <td>2.572</td>\n",
       "      <td>211.096358</td>\n",
       "      <td>8.106</td>\n",
       "      <td>2010</td>\n",
       "      <td>2</td>\n",
       "      <td>5</td>\n",
       "    </tr>\n",
       "    <tr>\n",
       "      <th>7</th>\n",
       "      <td>151315</td>\n",
       "      <td>8</td>\n",
       "      <td>42.31</td>\n",
       "      <td>2.572</td>\n",
       "      <td>211.096358</td>\n",
       "      <td>8.106</td>\n",
       "      <td>2010</td>\n",
       "      <td>2</td>\n",
       "      <td>5</td>\n",
       "    </tr>\n",
       "    <tr>\n",
       "      <th>8</th>\n",
       "      <td>151315</td>\n",
       "      <td>9</td>\n",
       "      <td>42.31</td>\n",
       "      <td>2.572</td>\n",
       "      <td>211.096358</td>\n",
       "      <td>8.106</td>\n",
       "      <td>2010</td>\n",
       "      <td>2</td>\n",
       "      <td>5</td>\n",
       "    </tr>\n",
       "    <tr>\n",
       "      <th>9</th>\n",
       "      <td>151315</td>\n",
       "      <td>10</td>\n",
       "      <td>42.31</td>\n",
       "      <td>2.572</td>\n",
       "      <td>211.096358</td>\n",
       "      <td>8.106</td>\n",
       "      <td>2010</td>\n",
       "      <td>2</td>\n",
       "      <td>5</td>\n",
       "    </tr>\n",
       "    <tr>\n",
       "      <th>10</th>\n",
       "      <td>151315</td>\n",
       "      <td>11</td>\n",
       "      <td>42.31</td>\n",
       "      <td>2.572</td>\n",
       "      <td>211.096358</td>\n",
       "      <td>8.106</td>\n",
       "      <td>2010</td>\n",
       "      <td>2</td>\n",
       "      <td>5</td>\n",
       "    </tr>\n",
       "    <tr>\n",
       "      <th>11</th>\n",
       "      <td>151315</td>\n",
       "      <td>12</td>\n",
       "      <td>42.31</td>\n",
       "      <td>2.572</td>\n",
       "      <td>211.096358</td>\n",
       "      <td>8.106</td>\n",
       "      <td>2010</td>\n",
       "      <td>2</td>\n",
       "      <td>5</td>\n",
       "    </tr>\n",
       "    <tr>\n",
       "      <th>12</th>\n",
       "      <td>151315</td>\n",
       "      <td>13</td>\n",
       "      <td>42.31</td>\n",
       "      <td>2.572</td>\n",
       "      <td>211.096358</td>\n",
       "      <td>8.106</td>\n",
       "      <td>2010</td>\n",
       "      <td>2</td>\n",
       "      <td>5</td>\n",
       "    </tr>\n",
       "    <tr>\n",
       "      <th>13</th>\n",
       "      <td>151315</td>\n",
       "      <td>14</td>\n",
       "      <td>42.31</td>\n",
       "      <td>2.572</td>\n",
       "      <td>211.096358</td>\n",
       "      <td>8.106</td>\n",
       "      <td>2010</td>\n",
       "      <td>2</td>\n",
       "      <td>5</td>\n",
       "    </tr>\n",
       "    <tr>\n",
       "      <th>14</th>\n",
       "      <td>151315</td>\n",
       "      <td>16</td>\n",
       "      <td>42.31</td>\n",
       "      <td>2.572</td>\n",
       "      <td>211.096358</td>\n",
       "      <td>8.106</td>\n",
       "      <td>2010</td>\n",
       "      <td>2</td>\n",
       "      <td>5</td>\n",
       "    </tr>\n",
       "    <tr>\n",
       "      <th>15</th>\n",
       "      <td>151315</td>\n",
       "      <td>17</td>\n",
       "      <td>42.31</td>\n",
       "      <td>2.572</td>\n",
       "      <td>211.096358</td>\n",
       "      <td>8.106</td>\n",
       "      <td>2010</td>\n",
       "      <td>2</td>\n",
       "      <td>5</td>\n",
       "    </tr>\n",
       "    <tr>\n",
       "      <th>16</th>\n",
       "      <td>151315</td>\n",
       "      <td>18</td>\n",
       "      <td>42.31</td>\n",
       "      <td>2.572</td>\n",
       "      <td>211.096358</td>\n",
       "      <td>8.106</td>\n",
       "      <td>2010</td>\n",
       "      <td>2</td>\n",
       "      <td>5</td>\n",
       "    </tr>\n",
       "    <tr>\n",
       "      <th>17</th>\n",
       "      <td>151315</td>\n",
       "      <td>19</td>\n",
       "      <td>42.31</td>\n",
       "      <td>2.572</td>\n",
       "      <td>211.096358</td>\n",
       "      <td>8.106</td>\n",
       "      <td>2010</td>\n",
       "      <td>2</td>\n",
       "      <td>5</td>\n",
       "    </tr>\n",
       "    <tr>\n",
       "      <th>18</th>\n",
       "      <td>151315</td>\n",
       "      <td>20</td>\n",
       "      <td>42.31</td>\n",
       "      <td>2.572</td>\n",
       "      <td>211.096358</td>\n",
       "      <td>8.106</td>\n",
       "      <td>2010</td>\n",
       "      <td>2</td>\n",
       "      <td>5</td>\n",
       "    </tr>\n",
       "    <tr>\n",
       "      <th>19</th>\n",
       "      <td>151315</td>\n",
       "      <td>21</td>\n",
       "      <td>42.31</td>\n",
       "      <td>2.572</td>\n",
       "      <td>211.096358</td>\n",
       "      <td>8.106</td>\n",
       "      <td>2010</td>\n",
       "      <td>2</td>\n",
       "      <td>5</td>\n",
       "    </tr>\n",
       "    <tr>\n",
       "      <th>20</th>\n",
       "      <td>151315</td>\n",
       "      <td>22</td>\n",
       "      <td>42.31</td>\n",
       "      <td>2.572</td>\n",
       "      <td>211.096358</td>\n",
       "      <td>8.106</td>\n",
       "      <td>2010</td>\n",
       "      <td>2</td>\n",
       "      <td>5</td>\n",
       "    </tr>\n",
       "    <tr>\n",
       "      <th>21</th>\n",
       "      <td>151315</td>\n",
       "      <td>23</td>\n",
       "      <td>42.31</td>\n",
       "      <td>2.572</td>\n",
       "      <td>211.096358</td>\n",
       "      <td>8.106</td>\n",
       "      <td>2010</td>\n",
       "      <td>2</td>\n",
       "      <td>5</td>\n",
       "    </tr>\n",
       "    <tr>\n",
       "      <th>22</th>\n",
       "      <td>151315</td>\n",
       "      <td>24</td>\n",
       "      <td>42.31</td>\n",
       "      <td>2.572</td>\n",
       "      <td>211.096358</td>\n",
       "      <td>8.106</td>\n",
       "      <td>2010</td>\n",
       "      <td>2</td>\n",
       "      <td>5</td>\n",
       "    </tr>\n",
       "    <tr>\n",
       "      <th>23</th>\n",
       "      <td>151315</td>\n",
       "      <td>25</td>\n",
       "      <td>42.31</td>\n",
       "      <td>2.572</td>\n",
       "      <td>211.096358</td>\n",
       "      <td>8.106</td>\n",
       "      <td>2010</td>\n",
       "      <td>2</td>\n",
       "      <td>5</td>\n",
       "    </tr>\n",
       "    <tr>\n",
       "      <th>24</th>\n",
       "      <td>151315</td>\n",
       "      <td>26</td>\n",
       "      <td>42.31</td>\n",
       "      <td>2.572</td>\n",
       "      <td>211.096358</td>\n",
       "      <td>8.106</td>\n",
       "      <td>2010</td>\n",
       "      <td>2</td>\n",
       "      <td>5</td>\n",
       "    </tr>\n",
       "    <tr>\n",
       "      <th>25</th>\n",
       "      <td>151315</td>\n",
       "      <td>27</td>\n",
       "      <td>42.31</td>\n",
       "      <td>2.572</td>\n",
       "      <td>211.096358</td>\n",
       "      <td>8.106</td>\n",
       "      <td>2010</td>\n",
       "      <td>2</td>\n",
       "      <td>5</td>\n",
       "    </tr>\n",
       "    <tr>\n",
       "      <th>26</th>\n",
       "      <td>151315</td>\n",
       "      <td>28</td>\n",
       "      <td>42.31</td>\n",
       "      <td>2.572</td>\n",
       "      <td>211.096358</td>\n",
       "      <td>8.106</td>\n",
       "      <td>2010</td>\n",
       "      <td>2</td>\n",
       "      <td>5</td>\n",
       "    </tr>\n",
       "    <tr>\n",
       "      <th>27</th>\n",
       "      <td>151315</td>\n",
       "      <td>29</td>\n",
       "      <td>42.31</td>\n",
       "      <td>2.572</td>\n",
       "      <td>211.096358</td>\n",
       "      <td>8.106</td>\n",
       "      <td>2010</td>\n",
       "      <td>2</td>\n",
       "      <td>5</td>\n",
       "    </tr>\n",
       "    <tr>\n",
       "      <th>28</th>\n",
       "      <td>151315</td>\n",
       "      <td>30</td>\n",
       "      <td>42.31</td>\n",
       "      <td>2.572</td>\n",
       "      <td>211.096358</td>\n",
       "      <td>8.106</td>\n",
       "      <td>2010</td>\n",
       "      <td>2</td>\n",
       "      <td>5</td>\n",
       "    </tr>\n",
       "    <tr>\n",
       "      <th>29</th>\n",
       "      <td>151315</td>\n",
       "      <td>31</td>\n",
       "      <td>42.31</td>\n",
       "      <td>2.572</td>\n",
       "      <td>211.096358</td>\n",
       "      <td>8.106</td>\n",
       "      <td>2010</td>\n",
       "      <td>2</td>\n",
       "      <td>5</td>\n",
       "    </tr>\n",
       "    <tr>\n",
       "      <th>...</th>\n",
       "      <td>...</td>\n",
       "      <td>...</td>\n",
       "      <td>...</td>\n",
       "      <td>...</td>\n",
       "      <td>...</td>\n",
       "      <td>...</td>\n",
       "      <td>...</td>\n",
       "      <td>...</td>\n",
       "      <td>...</td>\n",
       "    </tr>\n",
       "    <tr>\n",
       "      <th>391030</th>\n",
       "      <td>196321</td>\n",
       "      <td>48</td>\n",
       "      <td>41.80</td>\n",
       "      <td>3.686</td>\n",
       "      <td>199.219532</td>\n",
       "      <td>6.195</td>\n",
       "      <td>2012</td>\n",
       "      <td>10</td>\n",
       "      <td>26</td>\n",
       "    </tr>\n",
       "    <tr>\n",
       "      <th>391031</th>\n",
       "      <td>196321</td>\n",
       "      <td>49</td>\n",
       "      <td>41.80</td>\n",
       "      <td>3.686</td>\n",
       "      <td>199.219532</td>\n",
       "      <td>6.195</td>\n",
       "      <td>2012</td>\n",
       "      <td>10</td>\n",
       "      <td>26</td>\n",
       "    </tr>\n",
       "    <tr>\n",
       "      <th>391032</th>\n",
       "      <td>196321</td>\n",
       "      <td>52</td>\n",
       "      <td>41.80</td>\n",
       "      <td>3.686</td>\n",
       "      <td>199.219532</td>\n",
       "      <td>6.195</td>\n",
       "      <td>2012</td>\n",
       "      <td>10</td>\n",
       "      <td>26</td>\n",
       "    </tr>\n",
       "    <tr>\n",
       "      <th>391033</th>\n",
       "      <td>196321</td>\n",
       "      <td>54</td>\n",
       "      <td>41.80</td>\n",
       "      <td>3.686</td>\n",
       "      <td>199.219532</td>\n",
       "      <td>6.195</td>\n",
       "      <td>2012</td>\n",
       "      <td>10</td>\n",
       "      <td>26</td>\n",
       "    </tr>\n",
       "    <tr>\n",
       "      <th>391034</th>\n",
       "      <td>196321</td>\n",
       "      <td>55</td>\n",
       "      <td>41.80</td>\n",
       "      <td>3.686</td>\n",
       "      <td>199.219532</td>\n",
       "      <td>6.195</td>\n",
       "      <td>2012</td>\n",
       "      <td>10</td>\n",
       "      <td>26</td>\n",
       "    </tr>\n",
       "    <tr>\n",
       "      <th>391035</th>\n",
       "      <td>196321</td>\n",
       "      <td>56</td>\n",
       "      <td>41.80</td>\n",
       "      <td>3.686</td>\n",
       "      <td>199.219532</td>\n",
       "      <td>6.195</td>\n",
       "      <td>2012</td>\n",
       "      <td>10</td>\n",
       "      <td>26</td>\n",
       "    </tr>\n",
       "    <tr>\n",
       "      <th>391036</th>\n",
       "      <td>196321</td>\n",
       "      <td>58</td>\n",
       "      <td>41.80</td>\n",
       "      <td>3.686</td>\n",
       "      <td>199.219532</td>\n",
       "      <td>6.195</td>\n",
       "      <td>2012</td>\n",
       "      <td>10</td>\n",
       "      <td>26</td>\n",
       "    </tr>\n",
       "    <tr>\n",
       "      <th>391037</th>\n",
       "      <td>196321</td>\n",
       "      <td>59</td>\n",
       "      <td>41.80</td>\n",
       "      <td>3.686</td>\n",
       "      <td>199.219532</td>\n",
       "      <td>6.195</td>\n",
       "      <td>2012</td>\n",
       "      <td>10</td>\n",
       "      <td>26</td>\n",
       "    </tr>\n",
       "    <tr>\n",
       "      <th>391038</th>\n",
       "      <td>196321</td>\n",
       "      <td>60</td>\n",
       "      <td>41.80</td>\n",
       "      <td>3.686</td>\n",
       "      <td>199.219532</td>\n",
       "      <td>6.195</td>\n",
       "      <td>2012</td>\n",
       "      <td>10</td>\n",
       "      <td>26</td>\n",
       "    </tr>\n",
       "    <tr>\n",
       "      <th>391039</th>\n",
       "      <td>196321</td>\n",
       "      <td>67</td>\n",
       "      <td>41.80</td>\n",
       "      <td>3.686</td>\n",
       "      <td>199.219532</td>\n",
       "      <td>6.195</td>\n",
       "      <td>2012</td>\n",
       "      <td>10</td>\n",
       "      <td>26</td>\n",
       "    </tr>\n",
       "    <tr>\n",
       "      <th>391040</th>\n",
       "      <td>196321</td>\n",
       "      <td>71</td>\n",
       "      <td>41.80</td>\n",
       "      <td>3.686</td>\n",
       "      <td>199.219532</td>\n",
       "      <td>6.195</td>\n",
       "      <td>2012</td>\n",
       "      <td>10</td>\n",
       "      <td>26</td>\n",
       "    </tr>\n",
       "    <tr>\n",
       "      <th>391041</th>\n",
       "      <td>196321</td>\n",
       "      <td>72</td>\n",
       "      <td>41.80</td>\n",
       "      <td>3.686</td>\n",
       "      <td>199.219532</td>\n",
       "      <td>6.195</td>\n",
       "      <td>2012</td>\n",
       "      <td>10</td>\n",
       "      <td>26</td>\n",
       "    </tr>\n",
       "    <tr>\n",
       "      <th>391042</th>\n",
       "      <td>196321</td>\n",
       "      <td>74</td>\n",
       "      <td>41.80</td>\n",
       "      <td>3.686</td>\n",
       "      <td>199.219532</td>\n",
       "      <td>6.195</td>\n",
       "      <td>2012</td>\n",
       "      <td>10</td>\n",
       "      <td>26</td>\n",
       "    </tr>\n",
       "    <tr>\n",
       "      <th>391043</th>\n",
       "      <td>196321</td>\n",
       "      <td>79</td>\n",
       "      <td>41.80</td>\n",
       "      <td>3.686</td>\n",
       "      <td>199.219532</td>\n",
       "      <td>6.195</td>\n",
       "      <td>2012</td>\n",
       "      <td>10</td>\n",
       "      <td>26</td>\n",
       "    </tr>\n",
       "    <tr>\n",
       "      <th>391044</th>\n",
       "      <td>196321</td>\n",
       "      <td>80</td>\n",
       "      <td>41.80</td>\n",
       "      <td>3.686</td>\n",
       "      <td>199.219532</td>\n",
       "      <td>6.195</td>\n",
       "      <td>2012</td>\n",
       "      <td>10</td>\n",
       "      <td>26</td>\n",
       "    </tr>\n",
       "    <tr>\n",
       "      <th>391045</th>\n",
       "      <td>196321</td>\n",
       "      <td>81</td>\n",
       "      <td>41.80</td>\n",
       "      <td>3.686</td>\n",
       "      <td>199.219532</td>\n",
       "      <td>6.195</td>\n",
       "      <td>2012</td>\n",
       "      <td>10</td>\n",
       "      <td>26</td>\n",
       "    </tr>\n",
       "    <tr>\n",
       "      <th>391046</th>\n",
       "      <td>196321</td>\n",
       "      <td>82</td>\n",
       "      <td>41.80</td>\n",
       "      <td>3.686</td>\n",
       "      <td>199.219532</td>\n",
       "      <td>6.195</td>\n",
       "      <td>2012</td>\n",
       "      <td>10</td>\n",
       "      <td>26</td>\n",
       "    </tr>\n",
       "    <tr>\n",
       "      <th>391047</th>\n",
       "      <td>196321</td>\n",
       "      <td>83</td>\n",
       "      <td>41.80</td>\n",
       "      <td>3.686</td>\n",
       "      <td>199.219532</td>\n",
       "      <td>6.195</td>\n",
       "      <td>2012</td>\n",
       "      <td>10</td>\n",
       "      <td>26</td>\n",
       "    </tr>\n",
       "    <tr>\n",
       "      <th>391048</th>\n",
       "      <td>196321</td>\n",
       "      <td>85</td>\n",
       "      <td>41.80</td>\n",
       "      <td>3.686</td>\n",
       "      <td>199.219532</td>\n",
       "      <td>6.195</td>\n",
       "      <td>2012</td>\n",
       "      <td>10</td>\n",
       "      <td>26</td>\n",
       "    </tr>\n",
       "    <tr>\n",
       "      <th>391049</th>\n",
       "      <td>196321</td>\n",
       "      <td>87</td>\n",
       "      <td>41.80</td>\n",
       "      <td>3.686</td>\n",
       "      <td>199.219532</td>\n",
       "      <td>6.195</td>\n",
       "      <td>2012</td>\n",
       "      <td>10</td>\n",
       "      <td>26</td>\n",
       "    </tr>\n",
       "    <tr>\n",
       "      <th>391050</th>\n",
       "      <td>196321</td>\n",
       "      <td>90</td>\n",
       "      <td>41.80</td>\n",
       "      <td>3.686</td>\n",
       "      <td>199.219532</td>\n",
       "      <td>6.195</td>\n",
       "      <td>2012</td>\n",
       "      <td>10</td>\n",
       "      <td>26</td>\n",
       "    </tr>\n",
       "    <tr>\n",
       "      <th>391051</th>\n",
       "      <td>196321</td>\n",
       "      <td>91</td>\n",
       "      <td>41.80</td>\n",
       "      <td>3.686</td>\n",
       "      <td>199.219532</td>\n",
       "      <td>6.195</td>\n",
       "      <td>2012</td>\n",
       "      <td>10</td>\n",
       "      <td>26</td>\n",
       "    </tr>\n",
       "    <tr>\n",
       "      <th>391052</th>\n",
       "      <td>196321</td>\n",
       "      <td>92</td>\n",
       "      <td>41.80</td>\n",
       "      <td>3.686</td>\n",
       "      <td>199.219532</td>\n",
       "      <td>6.195</td>\n",
       "      <td>2012</td>\n",
       "      <td>10</td>\n",
       "      <td>26</td>\n",
       "    </tr>\n",
       "    <tr>\n",
       "      <th>391053</th>\n",
       "      <td>196321</td>\n",
       "      <td>93</td>\n",
       "      <td>41.80</td>\n",
       "      <td>3.686</td>\n",
       "      <td>199.219532</td>\n",
       "      <td>6.195</td>\n",
       "      <td>2012</td>\n",
       "      <td>10</td>\n",
       "      <td>26</td>\n",
       "    </tr>\n",
       "    <tr>\n",
       "      <th>391054</th>\n",
       "      <td>196321</td>\n",
       "      <td>94</td>\n",
       "      <td>41.80</td>\n",
       "      <td>3.686</td>\n",
       "      <td>199.219532</td>\n",
       "      <td>6.195</td>\n",
       "      <td>2012</td>\n",
       "      <td>10</td>\n",
       "      <td>26</td>\n",
       "    </tr>\n",
       "    <tr>\n",
       "      <th>391055</th>\n",
       "      <td>196321</td>\n",
       "      <td>95</td>\n",
       "      <td>41.80</td>\n",
       "      <td>3.686</td>\n",
       "      <td>199.219532</td>\n",
       "      <td>6.195</td>\n",
       "      <td>2012</td>\n",
       "      <td>10</td>\n",
       "      <td>26</td>\n",
       "    </tr>\n",
       "    <tr>\n",
       "      <th>391056</th>\n",
       "      <td>196321</td>\n",
       "      <td>96</td>\n",
       "      <td>41.80</td>\n",
       "      <td>3.686</td>\n",
       "      <td>199.219532</td>\n",
       "      <td>6.195</td>\n",
       "      <td>2012</td>\n",
       "      <td>10</td>\n",
       "      <td>26</td>\n",
       "    </tr>\n",
       "    <tr>\n",
       "      <th>391057</th>\n",
       "      <td>196321</td>\n",
       "      <td>97</td>\n",
       "      <td>41.80</td>\n",
       "      <td>3.686</td>\n",
       "      <td>199.219532</td>\n",
       "      <td>6.195</td>\n",
       "      <td>2012</td>\n",
       "      <td>10</td>\n",
       "      <td>26</td>\n",
       "    </tr>\n",
       "    <tr>\n",
       "      <th>391058</th>\n",
       "      <td>196321</td>\n",
       "      <td>98</td>\n",
       "      <td>41.80</td>\n",
       "      <td>3.686</td>\n",
       "      <td>199.219532</td>\n",
       "      <td>6.195</td>\n",
       "      <td>2012</td>\n",
       "      <td>10</td>\n",
       "      <td>26</td>\n",
       "    </tr>\n",
       "    <tr>\n",
       "      <th>391059</th>\n",
       "      <td>196321</td>\n",
       "      <td>99</td>\n",
       "      <td>41.80</td>\n",
       "      <td>3.686</td>\n",
       "      <td>199.219532</td>\n",
       "      <td>6.195</td>\n",
       "      <td>2012</td>\n",
       "      <td>10</td>\n",
       "      <td>26</td>\n",
       "    </tr>\n",
       "  </tbody>\n",
       "</table>\n",
       "<p>200293 rows × 9 columns</p>\n",
       "</div>"
      ],
      "text/plain": [
       "          Size  Dept  Temperature  Fuel_Price         CPI  Unemployment  year  \\\n",
       "0       151315     1        42.31       2.572  211.096358         8.106  2010   \n",
       "1       151315     2        42.31       2.572  211.096358         8.106  2010   \n",
       "2       151315     3        42.31       2.572  211.096358         8.106  2010   \n",
       "3       151315     4        42.31       2.572  211.096358         8.106  2010   \n",
       "4       151315     5        42.31       2.572  211.096358         8.106  2010   \n",
       "5       151315     6        42.31       2.572  211.096358         8.106  2010   \n",
       "6       151315     7        42.31       2.572  211.096358         8.106  2010   \n",
       "7       151315     8        42.31       2.572  211.096358         8.106  2010   \n",
       "8       151315     9        42.31       2.572  211.096358         8.106  2010   \n",
       "9       151315    10        42.31       2.572  211.096358         8.106  2010   \n",
       "10      151315    11        42.31       2.572  211.096358         8.106  2010   \n",
       "11      151315    12        42.31       2.572  211.096358         8.106  2010   \n",
       "12      151315    13        42.31       2.572  211.096358         8.106  2010   \n",
       "13      151315    14        42.31       2.572  211.096358         8.106  2010   \n",
       "14      151315    16        42.31       2.572  211.096358         8.106  2010   \n",
       "15      151315    17        42.31       2.572  211.096358         8.106  2010   \n",
       "16      151315    18        42.31       2.572  211.096358         8.106  2010   \n",
       "17      151315    19        42.31       2.572  211.096358         8.106  2010   \n",
       "18      151315    20        42.31       2.572  211.096358         8.106  2010   \n",
       "19      151315    21        42.31       2.572  211.096358         8.106  2010   \n",
       "20      151315    22        42.31       2.572  211.096358         8.106  2010   \n",
       "21      151315    23        42.31       2.572  211.096358         8.106  2010   \n",
       "22      151315    24        42.31       2.572  211.096358         8.106  2010   \n",
       "23      151315    25        42.31       2.572  211.096358         8.106  2010   \n",
       "24      151315    26        42.31       2.572  211.096358         8.106  2010   \n",
       "25      151315    27        42.31       2.572  211.096358         8.106  2010   \n",
       "26      151315    28        42.31       2.572  211.096358         8.106  2010   \n",
       "27      151315    29        42.31       2.572  211.096358         8.106  2010   \n",
       "28      151315    30        42.31       2.572  211.096358         8.106  2010   \n",
       "29      151315    31        42.31       2.572  211.096358         8.106  2010   \n",
       "...        ...   ...          ...         ...         ...           ...   ...   \n",
       "391030  196321    48        41.80       3.686  199.219532         6.195  2012   \n",
       "391031  196321    49        41.80       3.686  199.219532         6.195  2012   \n",
       "391032  196321    52        41.80       3.686  199.219532         6.195  2012   \n",
       "391033  196321    54        41.80       3.686  199.219532         6.195  2012   \n",
       "391034  196321    55        41.80       3.686  199.219532         6.195  2012   \n",
       "391035  196321    56        41.80       3.686  199.219532         6.195  2012   \n",
       "391036  196321    58        41.80       3.686  199.219532         6.195  2012   \n",
       "391037  196321    59        41.80       3.686  199.219532         6.195  2012   \n",
       "391038  196321    60        41.80       3.686  199.219532         6.195  2012   \n",
       "391039  196321    67        41.80       3.686  199.219532         6.195  2012   \n",
       "391040  196321    71        41.80       3.686  199.219532         6.195  2012   \n",
       "391041  196321    72        41.80       3.686  199.219532         6.195  2012   \n",
       "391042  196321    74        41.80       3.686  199.219532         6.195  2012   \n",
       "391043  196321    79        41.80       3.686  199.219532         6.195  2012   \n",
       "391044  196321    80        41.80       3.686  199.219532         6.195  2012   \n",
       "391045  196321    81        41.80       3.686  199.219532         6.195  2012   \n",
       "391046  196321    82        41.80       3.686  199.219532         6.195  2012   \n",
       "391047  196321    83        41.80       3.686  199.219532         6.195  2012   \n",
       "391048  196321    85        41.80       3.686  199.219532         6.195  2012   \n",
       "391049  196321    87        41.80       3.686  199.219532         6.195  2012   \n",
       "391050  196321    90        41.80       3.686  199.219532         6.195  2012   \n",
       "391051  196321    91        41.80       3.686  199.219532         6.195  2012   \n",
       "391052  196321    92        41.80       3.686  199.219532         6.195  2012   \n",
       "391053  196321    93        41.80       3.686  199.219532         6.195  2012   \n",
       "391054  196321    94        41.80       3.686  199.219532         6.195  2012   \n",
       "391055  196321    95        41.80       3.686  199.219532         6.195  2012   \n",
       "391056  196321    96        41.80       3.686  199.219532         6.195  2012   \n",
       "391057  196321    97        41.80       3.686  199.219532         6.195  2012   \n",
       "391058  196321    98        41.80       3.686  199.219532         6.195  2012   \n",
       "391059  196321    99        41.80       3.686  199.219532         6.195  2012   \n",
       "\n",
       "        month  day  \n",
       "0           2    5  \n",
       "1           2    5  \n",
       "2           2    5  \n",
       "3           2    5  \n",
       "4           2    5  \n",
       "5           2    5  \n",
       "6           2    5  \n",
       "7           2    5  \n",
       "8           2    5  \n",
       "9           2    5  \n",
       "10          2    5  \n",
       "11          2    5  \n",
       "12          2    5  \n",
       "13          2    5  \n",
       "14          2    5  \n",
       "15          2    5  \n",
       "16          2    5  \n",
       "17          2    5  \n",
       "18          2    5  \n",
       "19          2    5  \n",
       "20          2    5  \n",
       "21          2    5  \n",
       "22          2    5  \n",
       "23          2    5  \n",
       "24          2    5  \n",
       "25          2    5  \n",
       "26          2    5  \n",
       "27          2    5  \n",
       "28          2    5  \n",
       "29          2    5  \n",
       "...       ...  ...  \n",
       "391030     10   26  \n",
       "391031     10   26  \n",
       "391032     10   26  \n",
       "391033     10   26  \n",
       "391034     10   26  \n",
       "391035     10   26  \n",
       "391036     10   26  \n",
       "391037     10   26  \n",
       "391038     10   26  \n",
       "391039     10   26  \n",
       "391040     10   26  \n",
       "391041     10   26  \n",
       "391042     10   26  \n",
       "391043     10   26  \n",
       "391044     10   26  \n",
       "391045     10   26  \n",
       "391046     10   26  \n",
       "391047     10   26  \n",
       "391048     10   26  \n",
       "391049     10   26  \n",
       "391050     10   26  \n",
       "391051     10   26  \n",
       "391052     10   26  \n",
       "391053     10   26  \n",
       "391054     10   26  \n",
       "391055     10   26  \n",
       "391056     10   26  \n",
       "391057     10   26  \n",
       "391058     10   26  \n",
       "391059     10   26  \n",
       "\n",
       "[200293 rows x 9 columns]"
      ]
     },
     "execution_count": 42,
     "metadata": {},
     "output_type": "execute_result"
    }
   ],
   "source": [
    "train_x_a.head()\n",
    "features=pd.DataFrame()\n",
    "label=pd.DataFrame()\n",
    "label=train_x_a['Weekly_Sales']\n",
    "\n",
    "features=train_x_a.drop(['Weekly_Sales','Store','Type','Weekly_Sales','IsHoliday'],axis=1)\n",
    "#label.head()\n",
    "\n"
   ]
  },
  {
   "cell_type": "markdown",
   "metadata": {},
   "source": [
    "### 10.2 Train/Test Split\n",
    "\n",
    "The data we use is usually split into training data and test data. The training set contains a known output and the model learns on this data in order to be generalized to other data later on. We have the test dataset (or subset) in order to test our model’s prediction on this subset.\n",
    "\n",
    "Sklearn will provide inbuilt method for the Train and Test split based on cross validation"
   ]
  },
  {
   "cell_type": "code",
   "execution_count": 19,
   "metadata": {
    "collapsed": true
   },
   "outputs": [],
   "source": [
    "\n",
    "X_train, X_test, y_train, y_test = train_test_split(features,label, test_size=0.3, random_state=101)\n"
   ]
  },
  {
   "cell_type": "markdown",
   "metadata": {
    "collapsed": true
   },
   "source": [
    "### 10.3 Regression models\n",
    "There are various kinds of regression techniques available to make predictions. These techniques are mostly driven by three metrics (number of independent variables, type of dependent variables and shape of regression line). We’ll discuss them in detail in the following sections\n"
   ]
  },
  {
   "cell_type": "markdown",
   "metadata": {},
   "source": [
    "\n",
    "#### 10.3.1 Linear Regression\n",
    "\n",
    "It is one of the most widely known modeling technique. Linear regression is usually among the first few topics which people pick while learning predictive modeling. In this technique, the dependent variable is continuous, independent variable(s) can be continuous or discrete, and nature of regression line is linear.\n",
    "\n",
    "Linear Regression establishes a relationship between dependent variable (Y) and one or more independent variables (X) using a best fit straight line (also known as regression line).\n",
    "\n",
    "It is represented by an equation $Y=a+bX + e$, where a is intercept, b is slope of the line and e is error term. This equation can be used to predict the value of target variable based on given predictor variable(s).\n",
    "\n",
    "Sklearn library will provide inbuilt methods for Linear regression [2]."
   ]
  },
  {
   "cell_type": "markdown",
   "metadata": {},
   "source": [
    "#### 10.3.2  Extra Tree Regressor\n",
    "\n",
    "This class implements a meta estimator that fits a number of randomized decision trees (a.k.a. extra-trees) on various sub-samples of the dataset and use averaging to improve the predictive accuracy and control over-fitting.\n",
    "\n",
    "Sklearn library will provide inbuilt methods for Extra tree regression [3].\n",
    "\n"
   ]
  },
  {
   "cell_type": "markdown",
   "metadata": {},
   "source": [
    "#### 10.3.3 Support Vector Machine\n",
    "\n",
    "In machine learning, support vector machines (SVMs, also support vector networks) are supervised learning models with associated learning algorithms that analyze data used for classification and regression analysis. \n",
    "\n",
    "Given a set of training examples, each marked as belonging to one or the other of two categories, an SVM training algorithm builds a model that assigns new examples to one category or the other, making it a non-probabilistic binary linear classifier (although methods such as Platt scaling exist to use SVM in a probabilistic classification setting). \n",
    "\n",
    "An SVM model is a representation of the examples as points in space, mapped so that the examples of the separate categories are divided by a clear gap that is as wide as possible. New examples are then mapped into that same space and predicted to belong to a category based on which side of the gap they fall [5].\n",
    "\n",
    "Sklearn will provide inbuilt methods for SVM [4]."
   ]
  },
  {
   "cell_type": "markdown",
   "metadata": {},
   "source": [
    "Lets run all these regression models in order to predict the data accuratly and also which model suits well"
   ]
  },
  {
   "cell_type": "code",
   "execution_count": 30,
   "metadata": {
    "collapsed": true
   },
   "outputs": [],
   "source": [
    "def evaluate_model(test,pred):\n",
    "    \n",
    "    print('Model Evaluation Results')\n",
    "    print('MAE',metrics.mean_absolute_error(test,pred))\n",
    "    print('MSE',metrics.mean_squared_error(test,pred))\n",
    "    print('RMSE',np.sqrt(metrics.mean_squared_error(test,pred)))\n",
    "    print('variance score',metrics.explained_variance_score(test,pred))\n",
    "    "
   ]
  },
  {
   "cell_type": "code",
   "execution_count": 50,
   "metadata": {
    "collapsed": true
   },
   "outputs": [],
   "source": [
    "def Reg(func_df):\n",
    "    features=pd.DataFrame()\n",
    "    label=pd.DataFrame()\n",
    "    label=func_df['Weekly_Sales']\n",
    "    features=func_df.drop(['Weekly_Sales','Store','Type','Weekly_Sales','IsHoliday'],axis=1)\n",
    "    X_train, X_test, y_train, y_test = train_test_split(features,label, test_size=0.3, random_state=101)\n",
    "    \n",
    "    #Linear Regression\n",
    "    print('************ Linear Regression************')\n",
    "    lm = LinearRegression()\n",
    "    lm.fit(X_train,y_train)\n",
    "    # The coefficients\n",
    "    #print('Coefficients: \\n', lm.coef_)\n",
    "    predictions = lm.predict( X_test)\n",
    "    #Evaluation of model\n",
    "    plt.title('Linear Regression')\n",
    "    plt.scatter(predictions,y_test)\n",
    "    plt.xlabel('Y Test')\n",
    "    plt.ylabel('Predicted Y')\n",
    "    plt.show()\n",
    "    evaluate_model(y_test,predictions)\n",
    "    \n",
    "    \n",
    "    #Extra Tree Regressor\n",
    "    print('************ Extra Tree Regression************')\n",
    "    clf = ExtraTreesRegressor(n_estimators=200,max_features='auto')\n",
    "    clf.fit(X_train,y_train)\n",
    "    predict = clf.predict(X_test)\n",
    "    plt.title('Extra Tree Regressior')\n",
    "    plt.scatter(predict,y_test)\n",
    "    plt.xlabel('Y Test')\n",
    "    plt.ylabel('Predicted Y')\n",
    "    plt.show()\n",
    "\n",
    "\n",
    "    #Evaluation of model\n",
    "    evaluate_model(y_test,predict)\n",
    "    \n",
    "    \n",
    "    #SVR\n",
    "    print('************ Support Vector Regression************')\n",
    "    clf = SVR(kernel='rbf',C=200.0, epsilon=0.2)\n",
    "    clf.fit(X_train,y_train)\n",
    "    predict = clf.predict(X_test)\n",
    "    \n",
    "    plt.title('SVR')\n",
    "    plt.scatter(predict,y_test)\n",
    "    plt.xlabel('Y Test')\n",
    "    plt.ylabel('Predicted Y')\n",
    "    plt.show()\n",
    "    #Evaluation of model\n",
    "    evaluate_model(y_test,predict)\n",
    "    \n",
    "\n",
    "\n",
    "\n",
    "\n"
   ]
  },
  {
   "cell_type": "code",
   "execution_count": null,
   "metadata": {
    "scrolled": false
   },
   "outputs": [
    {
     "name": "stdout",
     "output_type": "stream",
     "text": [
      "************ Linear Regression************\n",
      "Coefficients: \n",
      " [  6.41182663e-02  -5.92685705e+01   3.01756351e+01   1.63638804e+02\n",
      "  -8.20986550e+01  -5.70146342e+02  -3.11277828e+02   1.24822111e+02\n",
      "  -6.69801681e+00]\n"
     ]
    },
    {
     "data": {
      "image/png": "[encoded data removed]",
      "text/plain": [
       "<Figure size 432x288 with 1 Axes>"
      ]
     },
     "metadata": {},
     "output_type": "display_data"
    },
    {
     "name": "stdout",
     "output_type": "stream",
     "text": [
      "Model Evaluation Results\n",
      "MAE 10521.6718991\n",
      "MSE 252881239.76\n",
      "RMSE 15902.2400862\n",
      "variance score 0.0704583793722\n",
      "************ Extra Tree Regression************\n"
     ]
    },
    {
     "data": {
      "image/png": "[encoded data removed]",
      "text/plain": [
       "<Figure size 432x288 with 1 Axes>"
      ]
     },
     "metadata": {},
     "output_type": "display_data"
    },
    {
     "name": "stdout",
     "output_type": "stream",
     "text": [
      "Model Evaluation Results\n",
      "MAE 1365.46684876\n",
      "MSE 12311375.0827\n",
      "RMSE 3508.75691416"
     ]
    }
   ],
   "source": [
    "Reg(train_x_b)\n"
   ]
  },
  {
   "cell_type": "markdown",
   "metadata": {},
   "source": [
    "### 10.4 Evaluation of models\n",
    "\n",
    "Now we have ran all three regression models for all the data(with 6 classifications inside data). We may include as many new models further before that we have to evaluate our models for accuracy\n",
    "\n",
    "We are evaluating our models based on the performance metrics [6].\n",
    "\n",
    "#### 10.4.1 Explained variance score\n",
    "\n",
    "The explained_variance_score computes the explained variance regression score.\n",
    "\n",
    "If $\\hat{y}$ is the estimated target output, y the corresponding (correct) target output, and Var is Variance, the square of the standard deviation, then the explained variance is estimated as follow:\n",
    "\n",
    "$$ExplainedVariance(y,\\hat y)=1-\\frac{var(y-\\hat y)}{var(y)}$$\n",
    "\n",
    "#### 10.4.2 MAE \n",
    "\n",
    "The mean_absolute_error function computes mean absolute error, a risk metric corresponding to the expected value of the absolute error loss or l1-norm loss. If $\\hat{y}_i$ is the predicted value of the $i$-th sample, and $y_i$ is the corresponding true value, then the mean absolute error (MAE) estimated over $n_{\\text{samples}}$ is defined as\n",
    "\n",
    "$$ MAE(y,\\hat y)= \\frac {1}{n_{samples}} \\sum^{n_{samples}-1}_{i=0}{\\mid y-\\hat y \\mid}$$\n",
    "\n",
    "#### 10.4.3 MSE\n",
    "\n",
    "The mean_squared_error function computes mean square error, a risk metric corresponding to the expected value of the squared (quadratic) error or loss. If $hat{y}_i$ is the predicted value of the $i$-th sample, and $y_i$ is the corresponding true value, then the mean squared error (MSE) estimated over $n_{\\text{samples}}$ is defined as\n",
    "\n",
    "$$ MSE(y,\\hat y)= \\frac {1}{n_{samples}} \\sum^{n_{samples}-1}_{i=0}{(y-\\hat y)^2}$$\n",
    "\n",
    "#### 10.4.4 RMSE\n",
    "\n",
    "Its the sqare root of MSE, which will gives the same diamension instead of measuring errors in terms of squares\n",
    "\n",
    "$$ RMSE(y,\\hat y)= \\sqrt{\\frac {1}{n_{samples}} \\sum^{n_{samples}-1}_{i=0}{(y-\\hat y)^2}}$$\n",
    "\n"
   ]
  },
  {
   "cell_type": "markdown",
   "metadata": {},
   "source": [
    "\n",
    "### Extra Tree regressor is good fit model for our prediction\n",
    "\n",
    "Based on above evaluation methods we have got very good explained variance score(about 0.98) for extra tree regressor.\n",
    "We can follow the extra tree regressor for predicting the data"
   ]
  },
  {
   "cell_type": "code",
   "execution_count": null,
   "metadata": {
    "collapsed": true
   },
   "outputs": [],
   "source": [
    "# Classifier"
   ]
  },
  {
   "cell_type": "code",
   "execution_count": 117,
   "metadata": {
    "collapsed": true
   },
   "outputs": [],
   "source": [
    "test_df = pd.read_csv('test.csv')"
   ]
  },
  {
   "cell_type": "code",
   "execution_count": 118,
   "metadata": {},
   "outputs": [
    {
     "name": "stdout",
     "output_type": "stream",
     "text": [
      "Store    22\n",
      "Type     22\n",
      "Size     22\n",
      "dtype: int64 Store    17\n",
      "Type     17\n",
      "Size     17\n",
      "dtype: int64 Store    6\n",
      "Type     6\n",
      "Size     6\n",
      "dtype: int64\n"
     ]
    }
   ],
   "source": [
    "A_count=store_df[store_df['Type']=='A'].count()\n",
    "B_count=store_df[store_df['Type']=='B'].count()\n",
    "C_count=store_df[store_df['Type']=='C'].count()\n",
    "print(A_count,B_count,C_count)\n",
    "\n"
   ]
  },
  {
   "cell_type": "code",
   "execution_count": 119,
   "metadata": {},
   "outputs": [
    {
     "data": {
      "text/plain": [
       "<matplotlib.axes._subplots.AxesSubplot at 0x1249da8d0>"
      ]
     },
     "execution_count": 119,
     "metadata": {},
     "output_type": "execute_result"
    },
    {
     "data": {
      "image/png": "[encoded data removed]",
      "text/plain": [
       "<Figure size 432x288 with 1 Axes>"
      ]
     },
     "metadata": {},
     "output_type": "display_data"
    }
   ],
   "source": [
    "sns.stripplot(x=\"Type\", y=\"Size\", data=store_df, jitter=True)"
   ]
  },
  {
   "cell_type": "code",
   "execution_count": 122,
   "metadata": {
    "collapsed": true
   },
   "outputs": [],
   "source": [
    "# remove the outliers \n",
    "class_train=pd.DataFrame()\n",
    "labels=pd.DataFrame()\n",
    "class_train=store_df[(store_df['Type']=='A')& (store_df['Size']>=40000)]\n",
    "class_train\n",
    "class_train=class_train.append(store_df[(store_df['Type']=='B')& (store_df['Size']>=40000)])\n",
    "class_train=class_train.append(store_df[store_df['Type']=='C'])\n",
    "class_train\n",
    "labels=pd.Categorical(class_train['Type']).codes\n",
    "labels\n",
    "features_cls=class_train.drop(['Type','Store'],axis=1)\n",
    "\n"
   ]
  },
  {
   "cell_type": "code",
   "execution_count": 123,
   "metadata": {},
   "outputs": [
    {
     "data": {
      "text/plain": [
       "SVC(C=100, cache_size=200, class_weight=None, coef0=0.0,\n",
       "  decision_function_shape='ovr', degree=3, gamma='auto', kernel='rbf',\n",
       "  max_iter=-1, probability=False, random_state=None, shrinking=True,\n",
       "  tol=0.001, verbose=False)"
      ]
     },
     "execution_count": 123,
     "metadata": {},
     "output_type": "execute_result"
    }
   ],
   "source": [
    "# classifier is trained\n",
    "clf = svm.SVC(C=100,kernel='rbf')\n",
    "clf.fit(features_cls, labels)"
   ]
  },
  {
   "cell_type": "code",
   "execution_count": 124,
   "metadata": {
    "collapsed": true
   },
   "outputs": [],
   "source": [
    "# merging the test \n",
    "test_df=test_df.merge(store_df,on=['Store'])\n",
    "test_df.drop(['Type'],axis=1,inplace=True)\n",
    "test_dat=test_df.drop(['Dept','Date','IsHoliday','Store'],axis=1)"
   ]
  },
  {
   "cell_type": "code",
   "execution_count": 125,
   "metadata": {
    "collapsed": true
   },
   "outputs": [],
   "source": [
    "# prediction based on category\n",
    "result=clf.predict(test_dat)"
   ]
  },
  {
   "cell_type": "code",
   "execution_count": 126,
   "metadata": {
    "collapsed": true
   },
   "outputs": [],
   "source": [
    "test_df=test_df.merge(features_df,on=['Date','Store','IsHoliday'])\n",
    "test_df['year'] = [int(x[0:4]) for x in list(test_df['Date'])]\n",
    "test_df['month'] = [int(x[5:7]) for x in list(test_df['Date'])]\n",
    "test_df['day'] = [int(x[8:]) for x in list(test_df['Date'])]\n",
    "test_df.drop(['Date'],axis=1,inplace=True)"
   ]
  },
  {
   "cell_type": "code",
   "execution_count": 127,
   "metadata": {
    "collapsed": true
   },
   "outputs": [],
   "source": [
    "# Making of the new dataframe to fit\n",
    "test_fit=pd.DataFrame()\n",
    "test_fit['Size']=test_dat['Size']\n",
    "test_fit['Dept']=test_df['Dept']\n",
    "test_fit['Temperature']=test_df['Temperature']\n",
    "test_fit['Fuel_Price']=test_df['Fuel_Price']\n",
    "test_fit['CPI']=test_df['CPI']\n",
    "test_fit['Unemployment']=test_df['Unemployment']\n",
    "test_fit['year']=test_df['year']\n",
    "test_fit['month']=test_df['month']\n",
    "test_fit['day']=test_df['day']\n",
    "test_fit['IsHoliday']=test_df['IsHoliday']\n",
    "test_fit['Store']=test_df['Store']\n",
    "\n",
    "\n"
   ]
  },
  {
   "cell_type": "code",
   "execution_count": 128,
   "metadata": {
    "collapsed": true
   },
   "outputs": [],
   "source": [
    "test_fit['Type']=result\n",
    "\n",
    "test_fit_A=pd.DataFrame()\n",
    "test_fit_A_h=pd.DataFrame()\n",
    "test_fit_B=pd.DataFrame()\n",
    "test_fit_B_h=pd.DataFrame()\n",
    "test_fit_C=pd.DataFrame()\n",
    "test_fit_C_h=pd.DataFrame()\n",
    "test_fit_A=test_fit[(test_fit['Type']==0)&(test_fit['IsHoliday']==False)].drop(['Type','IsHoliday'],axis=1)\n",
    "test_fit_A_h=test_fit[(test_fit['Type']==0)&(test_fit['IsHoliday']==True)].drop(['Type','IsHoliday'],axis=1)\n",
    "test_fit_B=test_fit[(test_fit['Type']==1)&(test_fit['IsHoliday']==False)].drop(['Type','IsHoliday'],axis=1)\n",
    "test_fit_B_h=test_fit[(test_fit['Type']==1)&(test_fit['IsHoliday']==True)].drop(['Type','IsHoliday'],axis=1)\n",
    "test_fit_C=test_fit[(test_fit['Type']==2)&(test_fit['IsHoliday']==False)].drop(['Type','IsHoliday'],axis=1)\n",
    "test_fit_C_h=test_fit[(test_fit['Type']==2)&(test_fit['IsHoliday']==True)].drop(['Type','IsHoliday'],axis=1)"
   ]
  },
  {
   "cell_type": "code",
   "execution_count": null,
   "metadata": {
    "collapsed": true
   },
   "outputs": [],
   "source": []
  },
  {
   "cell_type": "code",
   "execution_count": 129,
   "metadata": {
    "collapsed": true
   },
   "outputs": [],
   "source": [
    "def Reg_test(func_df,test_pred):\n",
    "    features=pd.DataFrame()\n",
    "    label=pd.DataFrame()\n",
    "    label=func_df['Weekly_Sales']\n",
    "    features=func_df.drop(['Weekly_Sales','Store','Type','Weekly_Sales','IsHoliday'],axis=1)\n",
    "    test_pred=test_pred.drop(['Store'],axis=1)\n",
    "    X_train, X_test, y_train, y_test = train_test_split(features,label, test_size=0.1, random_state=101)\n",
    "    \n",
    "    #Extra Tree Regressor\n",
    "    print('************ Extra Tree Regression************')\n",
    "    clf = ExtraTreesRegressor(n_estimators=200,max_features='auto')\n",
    "    clf.fit(X_train,y_train)\n",
    "    predict = clf.predict(test_pred)\n",
    "    return predict\n",
    "    \n",
    "    "
   ]
  },
  {
   "cell_type": "code",
   "execution_count": 130,
   "metadata": {},
   "outputs": [
    {
     "name": "stdout",
     "output_type": "stream",
     "text": [
      "************ Extra Tree Regression************\n",
      "************ Extra Tree Regression************\n",
      "************ Extra Tree Regression************\n",
      "************ Extra Tree Regression************\n",
      "************ Extra Tree Regression************\n",
      "************ Extra Tree Regression************\n"
     ]
    }
   ],
   "source": [
    "#Predicting for all test data with all types \n",
    "result_A=Reg_test(train_x_a,test_fit_A)\n",
    "result_A_h=Reg_test(train_x_a_h,test_fit_A_h)\n",
    "result_B=Reg_test(train_x_b,test_fit_B)\n",
    "result_B_h=Reg_test(train_x_b_h,test_fit_B_h)\n",
    "result_C=Reg_test(train_x_c,test_fit_C)\n",
    "result_C_h=Reg_test(train_x_c_h,test_fit_C_h)\n",
    "\n",
    "\n",
    "\n"
   ]
  },
  {
   "cell_type": "code",
   "execution_count": 131,
   "metadata": {
    "collapsed": true
   },
   "outputs": [],
   "source": [
    "resultA_df=pd.DataFrame()\n",
    "resultA_df=test_fit_A\n",
    "resultA_df['Weekly_Sales']=result_A\n",
    "\n",
    "resultA_h_df=pd.DataFrame()\n",
    "resultA_h_df=test_fit_A_h\n",
    "resultA_h_df['Weekly_Sales']=result_A_h\n",
    "\n",
    "resultB_df=pd.DataFrame()\n",
    "resultB_df=test_fit_B\n",
    "resultB_df['Weekly_Sales']=result_B\n",
    "\n",
    "resultB_h_df=pd.DataFrame()\n",
    "resultB_h_df=test_fit_B_h\n",
    "resultB_h_df['Weekly_Sales']=result_B_h\n",
    "\n",
    "\n",
    "resultC_df=pd.DataFrame()\n",
    "resultC_df=test_fit_C\n",
    "resultC_df['Weekly_Sales']=result_C\n",
    "\n",
    "resultC_h_df=pd.DataFrame()\n",
    "resultC_h_df=test_fit_C_h\n",
    "resultC_h_df['Weekly_Sales']=result_C_h\n",
    "\n",
    "\n"
   ]
  },
  {
   "cell_type": "code",
   "execution_count": 137,
   "metadata": {
    "collapsed": true
   },
   "outputs": [],
   "source": [
    "final_df=pd.DataFrame()\n",
    "final_df=pd.concat([resultA_df,resultA_h_df,resultB_df,resultB_h_df,resultC_df,resultC_h_df],axis=0)\n",
    "final_df.to_csv('final_result.csv')"
   ]
  },
  {
   "cell_type": "markdown",
   "metadata": {},
   "source": [
    "## Final results\n",
    "\n",
    "Final predicted data will be exorted into .csv files as 'final_result.csv' which has same format that of test.csv along with predicted 'Weekly_Sales'\n"
   ]
  },
  {
   "cell_type": "markdown",
   "metadata": {},
   "source": [
    "## Reference\n",
    "\n",
    "\n",
    "### Notebooks\n",
    "\n",
    "+ [1]. sklearn.ensemble.ExtraTreesRegressor https://github.com/rlabbe/Kalman-and-Bayesian-Filters-in-Python/blob/master/Supporting_Notebooks/Computing_and_plotting_PDFs.ipynb\n",
    "\n",
    "\n",
    "### Figures and Equations\n",
    "\n",
    "+ [4] Professor Nikos Tsitsiklis, \"Introduction to Probability - The Science of Uncertainty\", Probability slides from the course MITx:6.041x \n",
    "\n",
    "\n",
    "### Internet Documents\n",
    "\n",
    "+ [1]. Walmart Recruiting - Store Sales Forecasting - https://www.kaggle.com/c/walmart-recruiting-store-sales-forecasting/data). \n",
    "+ [2] sklearn.linear_model.LinearRegression- http://scikit-learn.org/stable/modules/generated/sklearn.linear_model.LinearRegression.html\n",
    "+ [3] sklearn.ensemble.ExtraTreesRegressor - http://scikit-learn.org/stable/modules/generated/sklearn.ensemble.ExtraTreesRegressor.html\n",
    "+ [4] Support Vector Machines - http://scikit-learn.org/stable/modules/svm.html\n",
    "+ [5] Wikepedia, Support_vector_machine- https://en.wikipedia.org/wiki/Support_vector_machine\n",
    "+ [6] Model evaluation: quantifying the quality of predictions- http://scikit-learn.org/stable/modules/model_evaluation.html\n",
    "\n",
    "\n",
    "### E-books\n",
    "\n",
    "+ [12] Osvaldo Martin, \" Bayesian Analysis with Python\", ISBN 978-1-78588-380-4 \n",
    "\n"
   ]
  },
  {
   "cell_type": "code",
   "execution_count": null,
   "metadata": {
    "collapsed": true
   },
   "outputs": [],
   "source": []
  }
 ],
 "metadata": {
  "kernelspec": {
   "display_name": "Python 3",
   "language": "python",
   "name": "python3"
  },
  "language_info": {
   "codemirror_mode": {
    "name": "ipython",
    "version": 3
   },
   "file_extension": ".py",
   "mimetype": "text/x-python",
   "name": "python",
   "nbconvert_exporter": "python",
   "pygments_lexer": "ipython3",
   "version": "3.6.3"
  }
 },
 "nbformat": 4,
 "nbformat_minor": 2
}
