{
 "cells": [
  {
   "cell_type": "markdown",
   "metadata": {},
   "source": [
    "___\n",
    "\n",
    "<a href='http://www.pieriandata.com'> <img src='../Pierian_Data_Logo.png' /></a>\n",
    "___"
   ]
  },
  {
   "cell_type": "markdown",
   "metadata": {
    "collapsed": true
   },
   "source": [
    "# Introduction to Pandas\n",
    "\n",
    "In this section of the course we will learn how to use pandas for data analysis. You can think of pandas as an extremely powerful version of Excel, with a lot more features. In this section of the course, you should go through the notebooks in this order:\n",
    "\n",
    "* Introduction to Pandas\n",
    "* Series\n",
    "* DataFrames\n",
    "* Missing Data\n",
    "* GroupBy\n",
    "* Merging,Joining,and Concatenating\n",
    "* Operations\n",
    "* Data Input and Output"
   ]
  },
  {
   "cell_type": "code",
   "execution_count": 30,
   "metadata": {
    "collapsed": true
   },
   "outputs": [],
   "source": [
    "#Part1"
   ]
  },
  {
   "cell_type": "code",
   "execution_count": 1,
   "metadata": {
    "collapsed": true
   },
   "outputs": [],
   "source": [
    "import pandas as pd\n",
    "import numpy as np"
   ]
  },
  {
   "cell_type": "code",
   "execution_count": 14,
   "metadata": {},
   "outputs": [],
   "source": [
    "A=([1,2,3,4,5],[2,3,4,6,7])\n",
    "d={'A':0,'B':5,'C':4}\n",
    "labels=['a','b','c','d','e']"
   ]
  },
  {
   "cell_type": "code",
   "execution_count": 3,
   "metadata": {
    "scrolled": true
   },
   "outputs": [
    {
     "data": {
      "text/plain": [
       "a    1\n",
       "b    2\n",
       "c    3\n",
       "d    4\n",
       "e    5\n",
       "dtype: int32"
      ]
     },
     "execution_count": 3,
     "metadata": {},
     "output_type": "execute_result"
    }
   ],
   "source": [
    "pd.Series(data=A,index=labels)"
   ]
  },
  {
   "cell_type": "code",
   "execution_count": 4,
   "metadata": {},
   "outputs": [
    {
     "data": {
      "text/plain": [
       "A    0\n",
       "B    5\n",
       "C    4\n",
       "dtype: int64"
      ]
     },
     "execution_count": 4,
     "metadata": {},
     "output_type": "execute_result"
    }
   ],
   "source": [
    "pd.Series(d)"
   ]
  },
  {
   "cell_type": "code",
   "execution_count": 7,
   "metadata": {},
   "outputs": [
    {
     "data": {
      "text/plain": [
       "0    a\n",
       "1    b\n",
       "2    c\n",
       "3    d\n",
       "4    e\n",
       "dtype: object"
      ]
     },
     "execution_count": 7,
     "metadata": {},
     "output_type": "execute_result"
    }
   ],
   "source": [
    "pd.Series(labels)"
   ]
  },
  {
   "cell_type": "code",
   "execution_count": 17,
   "metadata": {},
   "outputs": [
    {
     "data": {
      "text/plain": [
       "USA       [1, 2, 3, 4, 5]\n",
       "RUSSIA    [2, 3, 4, 6, 7]\n",
       "dtype: object"
      ]
     },
     "execution_count": 17,
     "metadata": {},
     "output_type": "execute_result"
    }
   ],
   "source": [
    "pd.Series(A,index=['USA','RUSSIA'])"
   ]
  },
  {
   "cell_type": "code",
   "execution_count": 20,
   "metadata": {},
   "outputs": [
    {
     "data": {
      "text/plain": [
       "USA       [2, 3, 4, 5]\n",
       "RUSSIA    [3, 6, 7, 8]\n",
       "dtype: object"
      ]
     },
     "execution_count": 20,
     "metadata": {},
     "output_type": "execute_result"
    }
   ],
   "source": [
    "pd.Series([[2,3,4,5],[3,6,7,8]],index=['USA','RUSSIA'])"
   ]
  },
  {
   "cell_type": "code",
   "execution_count": 24,
   "metadata": {},
   "outputs": [
    {
     "data": {
      "text/plain": [
       "USA        1\n",
       "USSR       2\n",
       "ITALY      3\n",
       "RUSSiA     4\n",
       "ENGLAND    5\n",
       "dtype: int64"
      ]
     },
     "execution_count": 24,
     "metadata": {},
     "output_type": "execute_result"
    }
   ],
   "source": [
    "pd.Series(data=[1,2,3,4,5],index=['USA','USSR','ITALY','RUSSiA','ENGLAND'])"
   ]
  },
  {
   "cell_type": "code",
   "execution_count": 29,
   "metadata": {},
   "outputs": [
    {
     "data": {
      "text/plain": [
       "ENGLAND    10.0\n",
       "ITALY       7.0\n",
       "RUSSIA      7.0\n",
       "USA         3.0\n",
       "USSR        NaN\n",
       "dtype: float64"
      ]
     },
     "execution_count": 29,
     "metadata": {},
     "output_type": "execute_result"
    }
   ],
   "source": [
    "df1=pd.Series([2,3,4,5],index=['USA','RUSSIA','ITALY','ENGLAND'])\n",
    "df2=pd.Series(data=[1,2,3,4,5],index=['USA','USSR','ITALY','RUSSIA','ENGLAND'])\n",
    "df1+df2"
   ]
  },
  {
   "cell_type": "code",
   "execution_count": 31,
   "metadata": {
    "collapsed": true
   },
   "outputs": [],
   "source": [
    "#Part2 "
   ]
  },
  {
   "cell_type": "code",
   "execution_count": 33,
   "metadata": {},
   "outputs": [],
   "source": [
    "from numpy.random import randn"
   ]
  },
  {
   "cell_type": "code",
   "execution_count": 46,
   "metadata": {},
   "outputs": [
    {
     "data": {
      "text/html": [
       "<div>\n",
       "<style>\n",
       "    .dataframe thead tr:only-child th {\n",
       "        text-align: right;\n",
       "    }\n",
       "\n",
       "    .dataframe thead th {\n",
       "        text-align: left;\n",
       "    }\n",
       "\n",
       "    .dataframe tbody tr th {\n",
       "        vertical-align: top;\n",
       "    }\n",
       "</style>\n",
       "<table border=\"1\" class=\"dataframe\">\n",
       "  <thead>\n",
       "    <tr style=\"text-align: right;\">\n",
       "      <th></th>\n",
       "      <th>AA</th>\n",
       "      <th>BB</th>\n",
       "      <th>CC</th>\n",
       "      <th>DD</th>\n",
       "      <th>EE</th>\n",
       "    </tr>\n",
       "  </thead>\n",
       "  <tbody>\n",
       "    <tr>\n",
       "      <th>A</th>\n",
       "      <td>-0.568514</td>\n",
       "      <td>-1.213415</td>\n",
       "      <td>1.536640</td>\n",
       "      <td>-0.144930</td>\n",
       "      <td>0.065562</td>\n",
       "    </tr>\n",
       "    <tr>\n",
       "      <th>B</th>\n",
       "      <td>0.586554</td>\n",
       "      <td>-0.879614</td>\n",
       "      <td>-0.438807</td>\n",
       "      <td>-0.598752</td>\n",
       "      <td>-0.577859</td>\n",
       "    </tr>\n",
       "    <tr>\n",
       "      <th>C</th>\n",
       "      <td>-1.083538</td>\n",
       "      <td>-0.947324</td>\n",
       "      <td>0.797873</td>\n",
       "      <td>0.752817</td>\n",
       "      <td>1.148544</td>\n",
       "    </tr>\n",
       "    <tr>\n",
       "      <th>D</th>\n",
       "      <td>-0.183870</td>\n",
       "      <td>0.412830</td>\n",
       "      <td>0.400970</td>\n",
       "      <td>-1.230669</td>\n",
       "      <td>0.205794</td>\n",
       "    </tr>\n",
       "    <tr>\n",
       "      <th>E</th>\n",
       "      <td>-1.106562</td>\n",
       "      <td>1.063367</td>\n",
       "      <td>-0.024931</td>\n",
       "      <td>-3.286128</td>\n",
       "      <td>0.456773</td>\n",
       "    </tr>\n",
       "  </tbody>\n",
       "</table>\n",
       "</div>"
      ],
      "text/plain": [
       "         AA        BB        CC        DD        EE\n",
       "A -0.568514 -1.213415  1.536640 -0.144930  0.065562\n",
       "B  0.586554 -0.879614 -0.438807 -0.598752 -0.577859\n",
       "C -1.083538 -0.947324  0.797873  0.752817  1.148544\n",
       "D -0.183870  0.412830  0.400970 -1.230669  0.205794\n",
       "E -1.106562  1.063367 -0.024931 -3.286128  0.456773"
      ]
     },
     "execution_count": 46,
     "metadata": {},
     "output_type": "execute_result"
    }
   ],
   "source": [
    "df=pd.DataFrame(randn(5,5),index=['A','B','C','D','E'],columns=['AA','BB','CC','DD','EE'])\n",
    "df"
   ]
  },
  {
   "cell_type": "code",
   "execution_count": 61,
   "metadata": {},
   "outputs": [
    {
     "data": {
      "text/plain": [
       "AA    0.705251\n",
       "BB    0.994407\n",
       "CC    0.761520\n",
       "DD    1.516214\n",
       "EE    0.626694\n",
       "dtype: float64"
      ]
     },
     "execution_count": 61,
     "metadata": {},
     "output_type": "execute_result"
    }
   ],
   "source": [
    "df.max()\n",
    "df.min()\n",
    "df.sum()\n",
    "df.std()"
   ]
  },
  {
   "cell_type": "code",
   "execution_count": 74,
   "metadata": {},
   "outputs": [
    {
     "data": {
      "text/html": [
       "<div>\n",
       "<style>\n",
       "    .dataframe thead tr:only-child th {\n",
       "        text-align: right;\n",
       "    }\n",
       "\n",
       "    .dataframe thead th {\n",
       "        text-align: left;\n",
       "    }\n",
       "\n",
       "    .dataframe tbody tr th {\n",
       "        vertical-align: top;\n",
       "    }\n",
       "</style>\n",
       "<table border=\"1\" class=\"dataframe\">\n",
       "  <thead>\n",
       "    <tr style=\"text-align: right;\">\n",
       "      <th></th>\n",
       "      <th>AA</th>\n",
       "      <th>DD</th>\n",
       "    </tr>\n",
       "  </thead>\n",
       "  <tbody>\n",
       "    <tr>\n",
       "      <th>A</th>\n",
       "      <td>-0.568514</td>\n",
       "      <td>-0.144930</td>\n",
       "    </tr>\n",
       "    <tr>\n",
       "      <th>B</th>\n",
       "      <td>0.586554</td>\n",
       "      <td>-0.598752</td>\n",
       "    </tr>\n",
       "    <tr>\n",
       "      <th>C</th>\n",
       "      <td>-1.083538</td>\n",
       "      <td>0.752817</td>\n",
       "    </tr>\n",
       "    <tr>\n",
       "      <th>D</th>\n",
       "      <td>-0.183870</td>\n",
       "      <td>-1.230669</td>\n",
       "    </tr>\n",
       "    <tr>\n",
       "      <th>E</th>\n",
       "      <td>-1.106562</td>\n",
       "      <td>-3.286128</td>\n",
       "    </tr>\n",
       "  </tbody>\n",
       "</table>\n",
       "</div>"
      ],
      "text/plain": [
       "         AA        DD\n",
       "A -0.568514 -0.144930\n",
       "B  0.586554 -0.598752\n",
       "C -1.083538  0.752817\n",
       "D -0.183870 -1.230669\n",
       "E -1.106562 -3.286128"
      ]
     },
     "execution_count": 74,
     "metadata": {},
     "output_type": "execute_result"
    }
   ],
   "source": [
    "df[['AA','DD']]"
   ]
  },
  {
   "cell_type": "code",
   "execution_count": 80,
   "metadata": {},
   "outputs": [
    {
     "data": {
      "text/html": [
       "<div>\n",
       "<style>\n",
       "    .dataframe thead tr:only-child th {\n",
       "        text-align: right;\n",
       "    }\n",
       "\n",
       "    .dataframe thead th {\n",
       "        text-align: left;\n",
       "    }\n",
       "\n",
       "    .dataframe tbody tr th {\n",
       "        vertical-align: top;\n",
       "    }\n",
       "</style>\n",
       "<table border=\"1\" class=\"dataframe\">\n",
       "  <thead>\n",
       "    <tr style=\"text-align: right;\">\n",
       "      <th></th>\n",
       "      <th>AA</th>\n",
       "      <th>BB</th>\n",
       "      <th>CC</th>\n",
       "      <th>DD</th>\n",
       "      <th>EE</th>\n",
       "      <th>new</th>\n",
       "    </tr>\n",
       "  </thead>\n",
       "  <tbody>\n",
       "    <tr>\n",
       "      <th>A</th>\n",
       "      <td>-0.568514</td>\n",
       "      <td>-1.213415</td>\n",
       "      <td>1.536640</td>\n",
       "      <td>-0.144930</td>\n",
       "      <td>0.065562</td>\n",
       "      <td>-0.713445</td>\n",
       "    </tr>\n",
       "    <tr>\n",
       "      <th>B</th>\n",
       "      <td>0.586554</td>\n",
       "      <td>-0.879614</td>\n",
       "      <td>-0.438807</td>\n",
       "      <td>-0.598752</td>\n",
       "      <td>-0.577859</td>\n",
       "      <td>-0.012198</td>\n",
       "    </tr>\n",
       "    <tr>\n",
       "      <th>C</th>\n",
       "      <td>-1.083538</td>\n",
       "      <td>-0.947324</td>\n",
       "      <td>0.797873</td>\n",
       "      <td>0.752817</td>\n",
       "      <td>1.148544</td>\n",
       "      <td>-0.330722</td>\n",
       "    </tr>\n",
       "    <tr>\n",
       "      <th>D</th>\n",
       "      <td>-0.183870</td>\n",
       "      <td>0.412830</td>\n",
       "      <td>0.400970</td>\n",
       "      <td>-1.230669</td>\n",
       "      <td>0.205794</td>\n",
       "      <td>-1.414539</td>\n",
       "    </tr>\n",
       "    <tr>\n",
       "      <th>E</th>\n",
       "      <td>-1.106562</td>\n",
       "      <td>1.063367</td>\n",
       "      <td>-0.024931</td>\n",
       "      <td>-3.286128</td>\n",
       "      <td>0.456773</td>\n",
       "      <td>-4.392690</td>\n",
       "    </tr>\n",
       "  </tbody>\n",
       "</table>\n",
       "</div>"
      ],
      "text/plain": [
       "         AA        BB        CC        DD        EE       new\n",
       "A -0.568514 -1.213415  1.536640 -0.144930  0.065562 -0.713445\n",
       "B  0.586554 -0.879614 -0.438807 -0.598752 -0.577859 -0.012198\n",
       "C -1.083538 -0.947324  0.797873  0.752817  1.148544 -0.330722\n",
       "D -0.183870  0.412830  0.400970 -1.230669  0.205794 -1.414539\n",
       "E -1.106562  1.063367 -0.024931 -3.286128  0.456773 -4.392690"
      ]
     },
     "execution_count": 80,
     "metadata": {},
     "output_type": "execute_result"
    }
   ],
   "source": [
    "df['new']=df['AA']+df['DD']\n",
    "df"
   ]
  },
  {
   "cell_type": "code",
   "execution_count": 86,
   "metadata": {},
   "outputs": [
    {
     "data": {
      "text/html": [
       "<div>\n",
       "<style>\n",
       "    .dataframe thead tr:only-child th {\n",
       "        text-align: right;\n",
       "    }\n",
       "\n",
       "    .dataframe thead th {\n",
       "        text-align: left;\n",
       "    }\n",
       "\n",
       "    .dataframe tbody tr th {\n",
       "        vertical-align: top;\n",
       "    }\n",
       "</style>\n",
       "<table border=\"1\" class=\"dataframe\">\n",
       "  <thead>\n",
       "    <tr style=\"text-align: right;\">\n",
       "      <th></th>\n",
       "      <th>AA</th>\n",
       "      <th>BB</th>\n",
       "      <th>CC</th>\n",
       "      <th>DD</th>\n",
       "      <th>EE</th>\n",
       "    </tr>\n",
       "  </thead>\n",
       "  <tbody>\n",
       "    <tr>\n",
       "      <th>A</th>\n",
       "      <td>-0.568514</td>\n",
       "      <td>-1.213415</td>\n",
       "      <td>1.536640</td>\n",
       "      <td>-0.144930</td>\n",
       "      <td>0.065562</td>\n",
       "    </tr>\n",
       "    <tr>\n",
       "      <th>B</th>\n",
       "      <td>0.586554</td>\n",
       "      <td>-0.879614</td>\n",
       "      <td>-0.438807</td>\n",
       "      <td>-0.598752</td>\n",
       "      <td>-0.577859</td>\n",
       "    </tr>\n",
       "    <tr>\n",
       "      <th>C</th>\n",
       "      <td>-1.083538</td>\n",
       "      <td>-0.947324</td>\n",
       "      <td>0.797873</td>\n",
       "      <td>0.752817</td>\n",
       "      <td>1.148544</td>\n",
       "    </tr>\n",
       "    <tr>\n",
       "      <th>D</th>\n",
       "      <td>-0.183870</td>\n",
       "      <td>0.412830</td>\n",
       "      <td>0.400970</td>\n",
       "      <td>-1.230669</td>\n",
       "      <td>0.205794</td>\n",
       "    </tr>\n",
       "    <tr>\n",
       "      <th>E</th>\n",
       "      <td>-1.106562</td>\n",
       "      <td>1.063367</td>\n",
       "      <td>-0.024931</td>\n",
       "      <td>-3.286128</td>\n",
       "      <td>0.456773</td>\n",
       "    </tr>\n",
       "  </tbody>\n",
       "</table>\n",
       "</div>"
      ],
      "text/plain": [
       "         AA        BB        CC        DD        EE\n",
       "A -0.568514 -1.213415  1.536640 -0.144930  0.065562\n",
       "B  0.586554 -0.879614 -0.438807 -0.598752 -0.577859\n",
       "C -1.083538 -0.947324  0.797873  0.752817  1.148544\n",
       "D -0.183870  0.412830  0.400970 -1.230669  0.205794\n",
       "E -1.106562  1.063367 -0.024931 -3.286128  0.456773"
      ]
     },
     "execution_count": 86,
     "metadata": {},
     "output_type": "execute_result"
    }
   ],
   "source": [
    "df.drop('new',axis=1,inplace=True)\n",
    "df"
   ]
  },
  {
   "cell_type": "code",
   "execution_count": 90,
   "metadata": {},
   "outputs": [
    {
     "data": {
      "text/plain": [
       "AA   -0.568514\n",
       "BB   -1.213415\n",
       "CC    1.536640\n",
       "DD   -0.144930\n",
       "EE    0.065562\n",
       "Name: A, dtype: float64"
      ]
     },
     "execution_count": 90,
     "metadata": {},
     "output_type": "execute_result"
    }
   ],
   "source": [
    "#selecting the rows\n",
    "df.loc['A']"
   ]
  },
  {
   "cell_type": "code",
   "execution_count": 91,
   "metadata": {},
   "outputs": [
    {
     "data": {
      "text/html": [
       "<div>\n",
       "<style>\n",
       "    .dataframe thead tr:only-child th {\n",
       "        text-align: right;\n",
       "    }\n",
       "\n",
       "    .dataframe thead th {\n",
       "        text-align: left;\n",
       "    }\n",
       "\n",
       "    .dataframe tbody tr th {\n",
       "        vertical-align: top;\n",
       "    }\n",
       "</style>\n",
       "<table border=\"1\" class=\"dataframe\">\n",
       "  <thead>\n",
       "    <tr style=\"text-align: right;\">\n",
       "      <th></th>\n",
       "      <th>AA</th>\n",
       "      <th>BB</th>\n",
       "      <th>CC</th>\n",
       "      <th>DD</th>\n",
       "      <th>EE</th>\n",
       "    </tr>\n",
       "  </thead>\n",
       "  <tbody>\n",
       "    <tr>\n",
       "      <th>A</th>\n",
       "      <td>-0.568514</td>\n",
       "      <td>-1.213415</td>\n",
       "      <td>1.536640</td>\n",
       "      <td>-0.144930</td>\n",
       "      <td>0.065562</td>\n",
       "    </tr>\n",
       "    <tr>\n",
       "      <th>B</th>\n",
       "      <td>0.586554</td>\n",
       "      <td>-0.879614</td>\n",
       "      <td>-0.438807</td>\n",
       "      <td>-0.598752</td>\n",
       "      <td>-0.577859</td>\n",
       "    </tr>\n",
       "  </tbody>\n",
       "</table>\n",
       "</div>"
      ],
      "text/plain": [
       "         AA        BB        CC        DD        EE\n",
       "A -0.568514 -1.213415  1.536640 -0.144930  0.065562\n",
       "B  0.586554 -0.879614 -0.438807 -0.598752 -0.577859"
      ]
     },
     "execution_count": 91,
     "metadata": {},
     "output_type": "execute_result"
    }
   ],
   "source": [
    "df.loc[['A','B']]"
   ]
  },
  {
   "cell_type": "code",
   "execution_count": 78,
   "metadata": {},
   "outputs": [
    {
     "data": {
      "text/html": [
       "<div>\n",
       "<style>\n",
       "    .dataframe thead tr:only-child th {\n",
       "        text-align: right;\n",
       "    }\n",
       "\n",
       "    .dataframe thead th {\n",
       "        text-align: left;\n",
       "    }\n",
       "\n",
       "    .dataframe tbody tr th {\n",
       "        vertical-align: top;\n",
       "    }\n",
       "</style>\n",
       "<table border=\"1\" class=\"dataframe\">\n",
       "  <thead>\n",
       "    <tr style=\"text-align: right;\">\n",
       "      <th></th>\n",
       "      <th>AA</th>\n",
       "      <th>BB</th>\n",
       "      <th>CC</th>\n",
       "      <th>DD</th>\n",
       "      <th>EE</th>\n",
       "      <th>new</th>\n",
       "    </tr>\n",
       "  </thead>\n",
       "  <tbody>\n",
       "    <tr>\n",
       "      <th>B</th>\n",
       "      <td>0.586554</td>\n",
       "      <td>-0.879614</td>\n",
       "      <td>-0.438807</td>\n",
       "      <td>-0.598752</td>\n",
       "      <td>-0.577859</td>\n",
       "      <td>-0.012198</td>\n",
       "    </tr>\n",
       "  </tbody>\n",
       "</table>\n",
       "</div>"
      ],
      "text/plain": [
       "         AA        BB        CC        DD        EE       new\n",
       "B  0.586554 -0.879614 -0.438807 -0.598752 -0.577859 -0.012198"
      ]
     },
     "execution_count": 78,
     "metadata": {},
     "output_type": "execute_result"
    }
   ],
   "source": [
    "df[df['AA']>0]"
   ]
  },
  {
   "cell_type": "code",
   "execution_count": 92,
   "metadata": {},
   "outputs": [
    {
     "data": {
      "text/plain": [
       "AA   -1.083538\n",
       "BB   -0.947324\n",
       "CC    0.797873\n",
       "DD    0.752817\n",
       "EE    1.148544\n",
       "Name: C, dtype: float64"
      ]
     },
     "execution_count": 92,
     "metadata": {},
     "output_type": "execute_result"
    }
   ],
   "source": [
    "df.iloc[2]"
   ]
  },
  {
   "cell_type": "code",
   "execution_count": 93,
   "metadata": {},
   "outputs": [
    {
     "data": {
      "text/html": [
       "<div>\n",
       "<style>\n",
       "    .dataframe thead tr:only-child th {\n",
       "        text-align: right;\n",
       "    }\n",
       "\n",
       "    .dataframe thead th {\n",
       "        text-align: left;\n",
       "    }\n",
       "\n",
       "    .dataframe tbody tr th {\n",
       "        vertical-align: top;\n",
       "    }\n",
       "</style>\n",
       "<table border=\"1\" class=\"dataframe\">\n",
       "  <thead>\n",
       "    <tr style=\"text-align: right;\">\n",
       "      <th></th>\n",
       "      <th>BB</th>\n",
       "      <th>CC</th>\n",
       "    </tr>\n",
       "  </thead>\n",
       "  <tbody>\n",
       "    <tr>\n",
       "      <th>A</th>\n",
       "      <td>-1.213415</td>\n",
       "      <td>1.53664</td>\n",
       "    </tr>\n",
       "    <tr>\n",
       "      <th>D</th>\n",
       "      <td>0.412830</td>\n",
       "      <td>0.40097</td>\n",
       "    </tr>\n",
       "  </tbody>\n",
       "</table>\n",
       "</div>"
      ],
      "text/plain": [
       "         BB       CC\n",
       "A -1.213415  1.53664\n",
       "D  0.412830  0.40097"
      ]
     },
     "execution_count": 93,
     "metadata": {},
     "output_type": "execute_result"
    }
   ],
   "source": [
    "df.loc[['A','D'],['BB','CC']]"
   ]
  },
  {
   "cell_type": "code",
   "execution_count": 68,
   "metadata": {},
   "outputs": [
    {
     "data": {
      "text/html": [
       "<div>\n",
       "<style>\n",
       "    .dataframe thead tr:only-child th {\n",
       "        text-align: right;\n",
       "    }\n",
       "\n",
       "    .dataframe thead th {\n",
       "        text-align: left;\n",
       "    }\n",
       "\n",
       "    .dataframe tbody tr th {\n",
       "        vertical-align: top;\n",
       "    }\n",
       "</style>\n",
       "<table border=\"1\" class=\"dataframe\">\n",
       "  <thead>\n",
       "    <tr style=\"text-align: right;\">\n",
       "      <th></th>\n",
       "      <th>AA</th>\n",
       "      <th>BB</th>\n",
       "      <th>CC</th>\n",
       "      <th>DD</th>\n",
       "      <th>EE</th>\n",
       "    </tr>\n",
       "  </thead>\n",
       "  <tbody>\n",
       "    <tr>\n",
       "      <th>A</th>\n",
       "      <td>-0.568514</td>\n",
       "      <td>-1.213415</td>\n",
       "      <td>1.536640</td>\n",
       "      <td>-0.144930</td>\n",
       "      <td>0.065562</td>\n",
       "    </tr>\n",
       "    <tr>\n",
       "      <th>C</th>\n",
       "      <td>-1.083538</td>\n",
       "      <td>-0.947324</td>\n",
       "      <td>0.797873</td>\n",
       "      <td>0.752817</td>\n",
       "      <td>1.148544</td>\n",
       "    </tr>\n",
       "    <tr>\n",
       "      <th>D</th>\n",
       "      <td>-0.183870</td>\n",
       "      <td>0.412830</td>\n",
       "      <td>0.400970</td>\n",
       "      <td>-1.230669</td>\n",
       "      <td>0.205794</td>\n",
       "    </tr>\n",
       "    <tr>\n",
       "      <th>E</th>\n",
       "      <td>-1.106562</td>\n",
       "      <td>1.063367</td>\n",
       "      <td>-0.024931</td>\n",
       "      <td>-3.286128</td>\n",
       "      <td>0.456773</td>\n",
       "    </tr>\n",
       "  </tbody>\n",
       "</table>\n",
       "</div>"
      ],
      "text/plain": [
       "         AA        BB        CC        DD        EE\n",
       "A -0.568514 -1.213415  1.536640 -0.144930  0.065562\n",
       "C -1.083538 -0.947324  0.797873  0.752817  1.148544\n",
       "D -0.183870  0.412830  0.400970 -1.230669  0.205794\n",
       "E -1.106562  1.063367 -0.024931 -3.286128  0.456773"
      ]
     },
     "execution_count": 68,
     "metadata": {},
     "output_type": "execute_result"
    }
   ],
   "source": [
    "df[df['AA']<0 ]"
   ]
  },
  {
   "cell_type": "code",
   "execution_count": 94,
   "metadata": {},
   "outputs": [
    {
     "ename": "SyntaxError",
     "evalue": "invalid syntax (<ipython-input-94-7fc331094b76>, line 1)",
     "output_type": "error",
     "traceback": [
      "\u001b[1;36m  File \u001b[1;32m\"<ipython-input-94-7fc331094b76>\"\u001b[1;36m, line \u001b[1;32m1\u001b[0m\n\u001b[1;33m    sumdf.apply(lamda x: x[:3]=='25')\u001b[0m\n\u001b[1;37m                      ^\u001b[0m\n\u001b[1;31mSyntaxError\u001b[0m\u001b[1;31m:\u001b[0m invalid syntax\n"
     ]
    }
   ],
   "source": [
    "sumdf.apply(lamda x: x[:3]=='25')"
   ]
  },
  {
   "cell_type": "markdown",
   "metadata": {},
   "source": [
    "___"
   ]
  }
 ],
 "metadata": {
  "kernelspec": {
   "display_name": "Python 3",
   "language": "python",
   "name": "python3"
  },
  "language_info": {
   "codemirror_mode": {
    "name": "ipython",
    "version": 3
   },
   "file_extension": ".py",
   "mimetype": "text/x-python",
   "name": "python",
   "nbconvert_exporter": "python",
   "pygments_lexer": "ipython3",
   "version": "3.6.3"
  }
 },
 "nbformat": 4,
 "nbformat_minor": 1
}
